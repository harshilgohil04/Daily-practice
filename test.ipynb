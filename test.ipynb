{
 "cells": [
  {
   "cell_type": "code",
   "execution_count": 2,
   "metadata": {},
   "outputs": [
    {
     "name": "stdout",
     "output_type": "stream",
     "text": [
      "10\n",
      "0\n",
      "25\n",
      "1.0\n"
     ]
    }
   ],
   "source": [
    "a=5\n",
    "b=5\n",
    "print(a+b)\n",
    "print(a-b)\n",
    "print(a*b)\n",
    "print(a/b)\n"
   ]
  },
  {
   "cell_type": "code",
   "execution_count": 3,
   "metadata": {},
   "outputs": [
    {
     "name": "stdout",
     "output_type": "stream",
     "text": [
      "11\n"
     ]
    }
   ],
   "source": [
    "a=6\n",
    "b=5\n",
    "c=3.5\n",
    "\n",
    "print(a+b)\n",
    "\n"
   ]
  },
  {
   "cell_type": "code",
   "execution_count": 4,
   "metadata": {},
   "outputs": [],
   "source": [
    "a=(1,6)\n",
    "type=(a)"
   ]
  },
  {
   "cell_type": "code",
   "execution_count": 5,
   "metadata": {},
   "outputs": [],
   "source": [
    "b={\"asd\": 10}\n",
    "type=(b)"
   ]
  },
  {
   "cell_type": "code",
   "execution_count": 6,
   "metadata": {},
   "outputs": [
    {
     "name": "stdout",
     "output_type": "stream",
     "text": [
      "True\n"
     ]
    }
   ],
   "source": [
    "print(True and True)"
   ]
  },
  {
   "cell_type": "code",
   "execution_count": 7,
   "metadata": {},
   "outputs": [
    {
     "name": "stdout",
     "output_type": "stream",
     "text": [
      "False\n"
     ]
    }
   ],
   "source": [
    "print(True and False)\n"
   ]
  },
  {
   "cell_type": "code",
   "execution_count": 8,
   "metadata": {},
   "outputs": [
    {
     "name": "stdout",
     "output_type": "stream",
     "text": [
      "False\n"
     ]
    }
   ],
   "source": [
    "print(not True)"
   ]
  },
  {
   "cell_type": "code",
   "execution_count": 9,
   "metadata": {},
   "outputs": [
    {
     "name": "stdout",
     "output_type": "stream",
     "text": [
      "True\n"
     ]
    }
   ],
   "source": [
    "print(True or False)"
   ]
  },
  {
   "cell_type": "code",
   "execution_count": 10,
   "metadata": {},
   "outputs": [
    {
     "name": "stdout",
     "output_type": "stream",
     "text": [
      "This a test string to test the candidate\n",
      "<bound method Kernel.raw_input of <ipykernel.ipkernel.IPythonKernel object at 0x000001C9C21F0F70>>\n"
     ]
    }
   ],
   "source": [
    "input_ = \"This is a test string to test the candidate\"\n",
    "resulting = \"This a test string to test the candidate\"\n",
    "\n",
    "print(input_[:4]+ input_[7:])\n",
    "print(input)"
   ]
  },
  {
   "cell_type": "code",
   "execution_count": 11,
   "metadata": {},
   "outputs": [
    {
     "data": {
      "text/plain": [
       "'is'"
      ]
     },
     "execution_count": 11,
     "metadata": {},
     "output_type": "execute_result"
    }
   ],
   "source": [
    "input_[5:7]"
   ]
  },
  {
   "cell_type": "code",
   "execution_count": 12,
   "metadata": {},
   "outputs": [
    {
     "name": "stdout",
     "output_type": "stream",
     "text": [
      "4\n",
      "43\n"
     ]
    }
   ],
   "source": [
    "input_ = \"This is a test string to test the candidate\"\n",
    "resulting = \"This a test string to test the candidate\"\n",
    "print(input_.find(\" is\"))\n",
    "print(len(input_))\n",
    "\n",
    "\n"
   ]
  },
  {
   "cell_type": "code",
   "execution_count": 13,
   "metadata": {},
   "outputs": [
    {
     "name": "stdout",
     "output_type": "stream",
     "text": [
      "['This a test string to test the candidate']\n"
     ]
    }
   ],
   "source": [
    "input_ = \"This is a test string to test the candidate\"\n",
    "resulting = \"This a test string to test the candidate\"\n",
    "\n",
    "a=input_[:input_.find(\" is\")]\n",
    "b=input_[input_.find(\" is \")+len(\" is \"):]\n",
    "c=[a+' '+b]\n",
    "print(c)\n"
   ]
  },
  {
   "cell_type": "code",
   "execution_count": 14,
   "metadata": {},
   "outputs": [
    {
     "data": {
      "text/plain": [
       "4"
      ]
     },
     "execution_count": 14,
     "metadata": {},
     "output_type": "execute_result"
    }
   ],
   "source": [
    "input_.find(\" is \")"
   ]
  },
  {
   "cell_type": "code",
   "execution_count": 15,
   "metadata": {},
   "outputs": [
    {
     "data": {
      "text/plain": [
       "'This'"
      ]
     },
     "execution_count": 15,
     "metadata": {},
     "output_type": "execute_result"
    }
   ],
   "source": [
    "input_[:input_.find(\" is \")]"
   ]
  },
  {
   "cell_type": "code",
   "execution_count": 16,
   "metadata": {},
   "outputs": [
    {
     "name": "stdout",
     "output_type": "stream",
     "text": [
      "This a test string to test the candidate\n"
     ]
    }
   ],
   "source": [
    "input = \"This is a test string to test the candidate\"\n",
    "\n",
    "index = input.find(\"is\")\n",
    "if index != -1:\n",
    "    output = input[:index] + input[index + len(\" is\"):]\n",
    "    print(output)\n"
   ]
  },
  {
   "cell_type": "code",
   "execution_count": 17,
   "metadata": {},
   "outputs": [
    {
     "name": "stdout",
     "output_type": "stream",
     "text": [
      "Found at 2\n"
     ]
    }
   ],
   "source": [
    "test_lidt = [1, 3, 4]\n",
    "element = 4\n",
    "tmp = 0\n",
    "idx = -1\n",
    "for i in test_lidt:\n",
    "    if i == element:\n",
    "        idx = tmp\n",
    "    else:\n",
    "        tmp += 1\n",
    "if idx == -1:\n",
    "    print(\"Not found\")\n",
    "else:\n",
    "    print(f\"Found at {idx}\")"
   ]
  },
  {
   "cell_type": "code",
   "execution_count": 18,
   "metadata": {},
   "outputs": [
    {
     "ename": "TypeError",
     "evalue": "'str' object is not callable",
     "output_type": "error",
     "traceback": [
      "\u001b[1;31m---------------------------------------------------------------------------\u001b[0m",
      "\u001b[1;31mTypeError\u001b[0m                                 Traceback (most recent call last)",
      "Cell \u001b[1;32mIn[18], line 1\u001b[0m\n\u001b[1;32m----> 1\u001b[0m x\u001b[38;5;241m=\u001b[39m\u001b[38;5;28mint\u001b[39m(\u001b[38;5;28;43minput\u001b[39;49m\u001b[43m(\u001b[49m\u001b[43m)\u001b[49m)\n\u001b[0;32m      2\u001b[0m \u001b[38;5;28mprint\u001b[39m(x)\n\u001b[0;32m      3\u001b[0m \u001b[38;5;28mtype\u001b[39m(x)\n",
      "\u001b[1;31mTypeError\u001b[0m: 'str' object is not callable"
     ]
    }
   ],
   "source": [
    "x=int(input())\n",
    "print(x)\n",
    "type(x)"
   ]
  },
  {
   "cell_type": "code",
   "execution_count": null,
   "metadata": {},
   "outputs": [
    {
     "data": {
      "text/plain": [
       "'This  a test string to test the candidate'"
      ]
     },
     "execution_count": 5,
     "metadata": {},
     "output_type": "execute_result"
    }
   ],
   "source": [
    "input_ = \"This is a test string to test the candidate\"\n",
    "\n",
    "input_.find(\" is\")\n",
    "\" \".join(input_.split(\" is\"))"
   ]
  },
  {
   "cell_type": "code",
   "execution_count": null,
   "metadata": {},
   "outputs": [
    {
     "name": "stdout",
     "output_type": "stream",
     "text": [
      "test for the \n",
      " class\n",
      "test for the entire class\n"
     ]
    }
   ],
   "source": [
    "input=\"test for the whole class\"\n",
    "output=\"test for the entire class\"\n",
    "\n",
    "\n",
    "a=input[:input.find(\"whole\")]\n",
    "b=input[input.find(\"whole\")+len(\"whole\"):]\n",
    "print(a)\n",
    "print(b)\n",
    "c=a+\"entire\"+b\n",
    "print(c)"
   ]
  },
  {
   "cell_type": "code",
   "execution_count": null,
   "metadata": {},
   "outputs": [
    {
     "name": "stdout",
     "output_type": "stream",
     "text": [
      "[5, 2, 3]\n"
     ]
    }
   ],
   "source": [
    "a=[1,2,3]\n",
    "b=a\n",
    "b[0]=5\n",
    "print(a)"
   ]
  },
  {
   "cell_type": "code",
   "execution_count": null,
   "metadata": {},
   "outputs": [
    {
     "data": {
      "text/plain": [
       "False"
      ]
     },
     "execution_count": 27,
     "metadata": {},
     "output_type": "execute_result"
    }
   ],
   "source": [
    "not True or False "
   ]
  },
  {
   "cell_type": "code",
   "execution_count": null,
   "metadata": {},
   "outputs": [
    {
     "name": "stdout",
     "output_type": "stream",
     "text": [
      "test for the entire class\n"
     ]
    }
   ],
   "source": [
    "input_ = \"test for the whole class\"\n",
    "output_ = input_.replace(\"whole\", \"entire\")\n",
    "print(output_)\n"
   ]
  },
  {
   "cell_type": "code",
   "execution_count": null,
   "metadata": {},
   "outputs": [
    {
     "name": "stdout",
     "output_type": "stream",
     "text": [
      "enter_sequence:[1, 2, 3]\n",
      "status:[3, 2, 1]\n",
      "exit_sequence:[1, 2, 3]\n"
     ]
    }
   ],
   "source": [
    "enter_sequence=[1,2,3]\n",
    "flag=0\n",
    "print(f\"enter_sequence:{enter_sequence}\")\n",
    "if flag==0:\n",
    "    status=enter_sequence[::-1]\n",
    "    print(f\"status:{status}\")\n",
    "    flag=1\n",
    "    if flag ==1:\n",
    "        exit_sequence= enter_sequence\n",
    "        print(f\"exit_sequence:{exit_sequence}\")"
   ]
  },
  {
   "cell_type": "code",
   "execution_count": null,
   "metadata": {},
   "outputs": [
    {
     "name": "stdout",
     "output_type": "stream",
     "text": [
      "1\n",
      "2\n",
      "3\n",
      "4\n",
      "[6, 7, 8]\n",
      "hi how are you\n"
     ]
    }
   ],
   "source": [
    "elements=[1,2,3,4,[6,7,8],\"hi how are you\"]\n",
    "for i in elements:\n",
    "    print(i)\n",
    "    "
   ]
  },
  {
   "cell_type": "code",
   "execution_count": null,
   "metadata": {},
   "outputs": [
    {
     "name": "stdout",
     "output_type": "stream",
     "text": [
      "[1, 2, 3, 4, [6, 7, 8], 'hi how are you']\n"
     ]
    }
   ],
   "source": [
    "elements=[1,2,3,4,[6,7,8],\"hi how are you\"]\n",
    "capacity=3\n",
    "current_quantity=0\n",
    "\n",
    "while True:\n",
    "    current_quantity+=1\n",
    "    print(elements)\n",
    "    if capacity <len(elements):\n",
    "\n",
    "        break\n"
   ]
  },
  {
   "cell_type": "markdown",
   "metadata": {},
   "source": [
    "while loop practice \n"
   ]
  },
  {
   "cell_type": "code",
   "execution_count": null,
   "metadata": {},
   "outputs": [
    {
     "name": "stdout",
     "output_type": "stream",
     "text": [
      "hello\n",
      "hello\n",
      "hello\n",
      "hello\n",
      "hello\n"
     ]
    }
   ],
   "source": [
    "count=1\n",
    "while count <= 5:\n",
    "    print(\"hello\")\n",
    "    count+=1\n",
    "\n"
   ]
  },
  {
   "cell_type": "code",
   "execution_count": null,
   "metadata": {},
   "outputs": [
    {
     "name": "stdout",
     "output_type": "stream",
     "text": [
      "1\n",
      "2\n",
      "3\n",
      "4\n",
      "5\n"
     ]
    }
   ],
   "source": [
    "i=1\n",
    "while i <=5:\n",
    "    print(i)\n",
    "    i+=1"
   ]
  },
  {
   "cell_type": "code",
   "execution_count": null,
   "metadata": {},
   "outputs": [
    {
     "name": "stdout",
     "output_type": "stream",
     "text": [
      "5\n",
      "4\n",
      "3\n",
      "2\n",
      "1\n"
     ]
    }
   ],
   "source": [
    "i=5\n",
    "while i>=1:\n",
    "    print(i)\n",
    "    i-=1"
   ]
  },
  {
   "cell_type": "code",
   "execution_count": null,
   "metadata": {},
   "outputs": [
    {
     "name": "stdout",
     "output_type": "stream",
     "text": [
      "1\n",
      "2\n",
      "3\n",
      "4\n",
      "5\n",
      "6\n",
      "7\n",
      "8\n",
      "9\n",
      "10\n",
      "11\n",
      "12\n",
      "13\n",
      "14\n",
      "15\n",
      "16\n",
      "17\n",
      "18\n",
      "19\n",
      "20\n",
      "21\n",
      "22\n",
      "23\n",
      "24\n",
      "25\n",
      "26\n",
      "27\n",
      "28\n",
      "29\n",
      "30\n",
      "31\n",
      "32\n",
      "33\n",
      "34\n",
      "35\n",
      "36\n",
      "37\n",
      "38\n",
      "39\n",
      "40\n",
      "41\n",
      "42\n",
      "43\n",
      "44\n",
      "45\n",
      "46\n",
      "47\n",
      "48\n",
      "49\n",
      "50\n",
      "51\n",
      "52\n",
      "53\n",
      "54\n",
      "55\n",
      "56\n",
      "57\n",
      "58\n",
      "59\n",
      "60\n",
      "61\n",
      "62\n",
      "63\n",
      "64\n",
      "65\n",
      "66\n",
      "67\n",
      "68\n",
      "69\n",
      "70\n",
      "71\n",
      "72\n",
      "73\n",
      "74\n",
      "75\n",
      "76\n",
      "77\n",
      "78\n",
      "79\n",
      "80\n",
      "81\n",
      "82\n",
      "83\n",
      "84\n",
      "85\n",
      "86\n",
      "87\n",
      "88\n",
      "89\n",
      "90\n",
      "91\n",
      "92\n",
      "93\n",
      "94\n",
      "95\n",
      "96\n",
      "97\n",
      "98\n",
      "99\n",
      "100\n"
     ]
    }
   ],
   "source": [
    "#print numbers from 1 to 100 \n",
    "i=1\n",
    "while i <=100:\n",
    "    print(i)\n",
    "    i+=1"
   ]
  },
  {
   "cell_type": "code",
   "execution_count": null,
   "metadata": {},
   "outputs": [
    {
     "name": "stdout",
     "output_type": "stream",
     "text": [
      "100\n",
      "99\n",
      "98\n",
      "97\n",
      "96\n",
      "95\n",
      "94\n",
      "93\n",
      "92\n",
      "91\n",
      "90\n",
      "89\n",
      "88\n",
      "87\n",
      "86\n",
      "85\n",
      "84\n",
      "83\n",
      "82\n",
      "81\n",
      "80\n",
      "79\n",
      "78\n",
      "77\n",
      "76\n",
      "75\n",
      "74\n",
      "73\n",
      "72\n",
      "71\n",
      "70\n",
      "69\n",
      "68\n",
      "67\n",
      "66\n",
      "65\n",
      "64\n",
      "63\n",
      "62\n",
      "61\n",
      "60\n",
      "59\n",
      "58\n",
      "57\n",
      "56\n",
      "55\n",
      "54\n",
      "53\n",
      "52\n",
      "51\n",
      "50\n",
      "49\n",
      "48\n",
      "47\n",
      "46\n",
      "45\n",
      "44\n",
      "43\n",
      "42\n",
      "41\n",
      "40\n",
      "39\n",
      "38\n",
      "37\n",
      "36\n",
      "35\n",
      "34\n",
      "33\n",
      "32\n",
      "31\n",
      "30\n",
      "29\n",
      "28\n",
      "27\n",
      "26\n",
      "25\n",
      "24\n",
      "23\n",
      "22\n",
      "21\n",
      "20\n",
      "19\n",
      "18\n",
      "17\n",
      "16\n",
      "15\n",
      "14\n",
      "13\n",
      "12\n",
      "11\n",
      "10\n",
      "9\n",
      "8\n",
      "7\n",
      "6\n",
      "5\n",
      "4\n",
      "3\n",
      "2\n",
      "1\n"
     ]
    }
   ],
   "source": [
    "# print numbers from 100 to 1\n",
    "\n",
    "i=100\n",
    "while i>=1:\n",
    "    print(i)\n",
    "    i-=1"
   ]
  },
  {
   "cell_type": "code",
   "execution_count": null,
   "metadata": {},
   "outputs": [
    {
     "name": "stdout",
     "output_type": "stream",
     "text": [
      "4\n",
      "8\n",
      "12\n",
      "16\n",
      "20\n",
      "24\n",
      "28\n",
      "32\n",
      "36\n",
      "40\n"
     ]
    }
   ],
   "source": [
    "#print the multiplication table of number n.\n",
    "n=int(input(\"enter the number : \"))\n",
    "i=1\n",
    "while i <=  10:\n",
    "    print(n*i)\n",
    "    i+=1\n"
   ]
  },
  {
   "cell_type": "code",
   "execution_count": null,
   "metadata": {},
   "outputs": [
    {
     "name": "stdout",
     "output_type": "stream",
     "text": [
      "1\n",
      "4\n",
      "9\n",
      "16\n",
      "25\n",
      "36\n",
      "49\n",
      "64\n",
      "81\n",
      "100\n"
     ]
    }
   ],
   "source": [
    "#print the element of the follwing list using a loop \n",
    "nums= [1,4,9,16,25,36,49,64,81,100]\n",
    "idx=0\n",
    "while idx < len(nums):\n",
    "    print(nums[idx])\n",
    "    idx+=1"
   ]
  },
  {
   "cell_type": "code",
   "execution_count": null,
   "metadata": {},
   "outputs": [
    {
     "name": "stdout",
     "output_type": "stream",
     "text": [
      "finding\n",
      "finding\n",
      "finding\n",
      "finding\n",
      "finding\n",
      "finding\n",
      "finding\n",
      " found at idx  7\n",
      "finding\n",
      "finding\n"
     ]
    }
   ],
   "source": [
    "#search for a numbers x in this tuple using loop \n",
    "nums= (1,4,9,16,25,36,49,64,81,100)\n",
    "x=64\n",
    "i=0\n",
    "while i < len(nums):\n",
    "    if (nums[i]==x):\n",
    "        print(\" found at idx \",i)\n",
    "    else:\n",
    "        print(\"finding\")\n",
    "    i+=1\n"
   ]
  },
  {
   "cell_type": "code",
   "execution_count": null,
   "metadata": {},
   "outputs": [
    {
     "name": "stdout",
     "output_type": "stream",
     "text": [
      "found at idx  1\n",
      "found at idx  2\n",
      "found at idx  3\n"
     ]
    }
   ],
   "source": [
    "#break\n",
    "i=1\n",
    "while i <= 5:\n",
    "    print(\"found at idx \",i)\n",
    "    if (i ==3 ):\n",
    "        break\n",
    "    i +=1"
   ]
  },
  {
   "cell_type": "code",
   "execution_count": null,
   "metadata": {},
   "outputs": [
    {
     "name": "stdout",
     "output_type": "stream",
     "text": [
      "1\n",
      "2\n",
      "4\n",
      "5\n"
     ]
    }
   ],
   "source": [
    "#continue \n",
    "\n",
    "i =1\n",
    "while i <=5:\n",
    "    if (i==3):\n",
    "        i+=1\n",
    "        continue\n",
    "    print(i)\n",
    "    i+=1"
   ]
  },
  {
   "cell_type": "code",
   "execution_count": null,
   "metadata": {},
   "outputs": [
    {
     "ename": "KeyboardInterrupt",
     "evalue": "",
     "output_type": "error",
     "traceback": [
      "\u001b[1;31m---------------------------------------------------------------------------\u001b[0m",
      "\u001b[1;31mKeyboardInterrupt\u001b[0m                         Traceback (most recent call last)",
      "Cell \u001b[1;32mIn[4], line 3\u001b[0m\n\u001b[0;32m      1\u001b[0m \u001b[38;5;66;03m# for odd & even numbers. \u001b[39;00m\n\u001b[0;32m      2\u001b[0m i \u001b[38;5;241m=\u001b[39m\u001b[38;5;241m1\u001b[39m\n\u001b[1;32m----> 3\u001b[0m \u001b[38;5;28;01mwhile\u001b[39;00m \u001b[43mi\u001b[49m\u001b[43m \u001b[49m\u001b[38;5;241;43m<\u001b[39;49m\u001b[38;5;241;43m=\u001b[39;49m\u001b[43m \u001b[49m\u001b[38;5;241;43m10\u001b[39;49m:\n\u001b[0;32m      4\u001b[0m   \u001b[38;5;28;01mif\u001b[39;00m(i\u001b[38;5;241m%\u001b[39m\u001b[38;5;241m2\u001b[39m \u001b[38;5;241m==\u001b[39m \u001b[38;5;241m0\u001b[39m): \u001b[38;5;66;03m#for even (i%2 !=0)(!=not) \u001b[39;00m\n\u001b[0;32m      5\u001b[0m     i \u001b[38;5;241m+\u001b[39m\u001b[38;5;241m=\u001b[39m\u001b[38;5;241m1\u001b[39m\n",
      "\u001b[1;31mKeyboardInterrupt\u001b[0m: "
     ]
    }
   ],
   "source": [
    "# for odd & even numbers. \n",
    "i =1\n",
    "while i <= 10:\n",
    "  if(i%2 == 0): #for even (i%2 !=0)(!=not) \n",
    "    i +=1\n",
    "    continue  # skip \n",
    "print(i)\n",
    "i +=1\n"
   ]
  },
  {
   "cell_type": "markdown",
   "metadata": {},
   "source": [
    "For loop practice"
   ]
  },
  {
   "cell_type": "code",
   "execution_count": null,
   "metadata": {},
   "outputs": [
    {
     "name": "stdout",
     "output_type": "stream",
     "text": [
      "1\n",
      "2\n",
      "3\n",
      "4\n",
      "5\n"
     ]
    }
   ],
   "source": [
    "num= [1,2,3,4,5]\n",
    "\n",
    "for val in num :\n",
    "    print(val)\n",
    "    "
   ]
  },
  {
   "cell_type": "code",
   "execution_count": null,
   "metadata": {},
   "outputs": [
    {
     "name": "stdout",
     "output_type": "stream",
     "text": [
      "1\n",
      "4\n",
      "9\n",
      "16\n",
      "25\n",
      "36\n",
      "49\n",
      "64\n",
      "81\n",
      "100\n"
     ]
    }
   ],
   "source": [
    "# print the elements of the follwing lsit.\n",
    "nums= [1,4,9,16,25,36,49,64,81,100]\n",
    "\n",
    "for i in nums :\n",
    "    print(i)"
   ]
  },
  {
   "cell_type": "code",
   "execution_count": null,
   "metadata": {},
   "outputs": [
    {
     "name": "stdout",
     "output_type": "stream",
     "text": [
      "number found at idx  5\n",
      "number found at idx  10\n"
     ]
    }
   ],
   "source": [
    "nums= (1,4,9,16,25,36,49,64,81,100,36)\n",
    "x=36\n",
    "idx=0\n",
    "for i in nums:\n",
    "    if (i==x):\n",
    "         print(\"number found at idx \", idx)\n",
    "    idx +=1"
   ]
  },
  {
   "cell_type": "code",
   "execution_count": null,
   "metadata": {},
   "outputs": [],
   "source": [
    "list=[]\n",
    "for i in range(3000000):\n",
    "  list.append(i)\n"
   ]
  },
  {
   "cell_type": "code",
   "execution_count": null,
   "metadata": {},
   "outputs": [],
   "source": [
    "import numpy as np\n"
   ]
  },
  {
   "cell_type": "code",
   "execution_count": null,
   "metadata": {},
   "outputs": [
    {
     "name": "stdout",
     "output_type": "stream",
     "text": [
      "[1 2 3]\n"
     ]
    }
   ],
   "source": [
    "\n",
    "arr = np.array([1,2,3])\n",
    "print(arr)"
   ]
  },
  {
   "cell_type": "code",
   "execution_count": null,
   "metadata": {},
   "outputs": [
    {
     "data": {
      "text/plain": [
       "array([8])"
      ]
     },
     "execution_count": 17,
     "metadata": {},
     "output_type": "execute_result"
    }
   ],
   "source": [
    "a = np.array([\"this is ball\"])\n",
    "np.char.find(a,\"ball\", start=0, end=None)"
   ]
  },
  {
   "cell_type": "code",
   "execution_count": null,
   "metadata": {},
   "outputs": [],
   "source": [
    "import pandas as pd"
   ]
  },
  {
   "cell_type": "code",
   "execution_count": null,
   "metadata": {},
   "outputs": [
    {
     "data": {
      "text/html": [
       "<div>\n",
       "<style scoped>\n",
       "    .dataframe tbody tr th:only-of-type {\n",
       "        vertical-align: middle;\n",
       "    }\n",
       "\n",
       "    .dataframe tbody tr th {\n",
       "        vertical-align: top;\n",
       "    }\n",
       "\n",
       "    .dataframe thead th {\n",
       "        text-align: right;\n",
       "    }\n",
       "</style>\n",
       "<table border=\"1\" class=\"dataframe\">\n",
       "  <thead>\n",
       "    <tr style=\"text-align: right;\">\n",
       "      <th></th>\n",
       "      <th>Unnamed: 0</th>\n",
       "      <th>Date Published</th>\n",
       "      <th>Rating</th>\n",
       "      <th>Max Rating</th>\n",
       "      <th>Title</th>\n",
       "      <th>Author</th>\n",
       "      <th>Country</th>\n",
       "      <th>Date</th>\n",
       "      <th>Review Body</th>\n",
       "      <th>Type Of Traveller</th>\n",
       "      <th>Seat Type</th>\n",
       "      <th>Route</th>\n",
       "      <th>Date Flown</th>\n",
       "      <th>Recommended</th>\n",
       "      <th>Aircraft</th>\n",
       "      <th>Verified</th>\n",
       "    </tr>\n",
       "  </thead>\n",
       "  <tbody>\n",
       "    <tr>\n",
       "      <th>0</th>\n",
       "      <td>0</td>\n",
       "      <td>2024-03-05</td>\n",
       "      <td>1.0</td>\n",
       "      <td>10.0</td>\n",
       "      <td>\"poor ability to communicate policy\"</td>\n",
       "      <td>Kristina Gollinger</td>\n",
       "      <td>United States</td>\n",
       "      <td>2024-03-05</td>\n",
       "      <td>The flight was never taken. My review that I...</td>\n",
       "      <td>Family Leisure</td>\n",
       "      <td>Economy Class</td>\n",
       "      <td>Los Angeles to Vienna</td>\n",
       "      <td>May 2023</td>\n",
       "      <td>no</td>\n",
       "      <td>NaN</td>\n",
       "      <td>1.0</td>\n",
       "    </tr>\n",
       "    <tr>\n",
       "      <th>1</th>\n",
       "      <td>1</td>\n",
       "      <td>2024-02-28</td>\n",
       "      <td>2.0</td>\n",
       "      <td>10.0</td>\n",
       "      <td>“Austrian dropped the ball”</td>\n",
       "      <td>E Kemp</td>\n",
       "      <td>United States</td>\n",
       "      <td>2024-02-28</td>\n",
       "      <td>I just returned from a 2 weeks trip in Europe...</td>\n",
       "      <td>Solo Leisure</td>\n",
       "      <td>Business Class</td>\n",
       "      <td>Vienna to Paris CDG</td>\n",
       "      <td>February 2024</td>\n",
       "      <td>no</td>\n",
       "      <td>NaN</td>\n",
       "      <td>1.0</td>\n",
       "    </tr>\n",
       "    <tr>\n",
       "      <th>2</th>\n",
       "      <td>2</td>\n",
       "      <td>2024-01-16</td>\n",
       "      <td>1.0</td>\n",
       "      <td>10.0</td>\n",
       "      <td>\"an arduous experience\"</td>\n",
       "      <td>Sonia Ashrafpour</td>\n",
       "      <td>Switzerland</td>\n",
       "      <td>2024-01-16</td>\n",
       "      <td>My experience was far from satisfactory. The...</td>\n",
       "      <td>Couple Leisure</td>\n",
       "      <td>Economy Class</td>\n",
       "      <td>Vienna to Bangkok</td>\n",
       "      <td>December 2023</td>\n",
       "      <td>no</td>\n",
       "      <td>NaN</td>\n",
       "      <td>1.0</td>\n",
       "    </tr>\n",
       "    <tr>\n",
       "      <th>3</th>\n",
       "      <td>3</td>\n",
       "      <td>2024-01-12</td>\n",
       "      <td>8.0</td>\n",
       "      <td>10.0</td>\n",
       "      <td>\"professional and polite cabin crew\"</td>\n",
       "      <td>Karim Fahim</td>\n",
       "      <td>Czech Republic</td>\n",
       "      <td>2024-01-12</td>\n",
       "      <td>Austrian Airlines are really nice, decent ca...</td>\n",
       "      <td>Solo Leisure</td>\n",
       "      <td>Economy Class</td>\n",
       "      <td>Prague to Cairo via Vienna</td>\n",
       "      <td>December 2023</td>\n",
       "      <td>NaN</td>\n",
       "      <td>NaN</td>\n",
       "      <td>1.0</td>\n",
       "    </tr>\n",
       "    <tr>\n",
       "      <th>4</th>\n",
       "      <td>4</td>\n",
       "      <td>2024-01-09</td>\n",
       "      <td>3.0</td>\n",
       "      <td>10.0</td>\n",
       "      <td>“No apology whatsoever”</td>\n",
       "      <td>Thomas Wenn</td>\n",
       "      <td>United Kingdom</td>\n",
       "      <td>2024-01-09</td>\n",
       "      <td>This airline didn't load my baggage onto my o...</td>\n",
       "      <td>Solo Leisure</td>\n",
       "      <td>Economy Class</td>\n",
       "      <td>Bangkok to London Heathrow via Vienna</td>\n",
       "      <td>December 2023</td>\n",
       "      <td>no</td>\n",
       "      <td>NaN</td>\n",
       "      <td>0.0</td>\n",
       "    </tr>\n",
       "    <tr>\n",
       "      <th>...</th>\n",
       "      <td>...</td>\n",
       "      <td>...</td>\n",
       "      <td>...</td>\n",
       "      <td>...</td>\n",
       "      <td>...</td>\n",
       "      <td>...</td>\n",
       "      <td>...</td>\n",
       "      <td>...</td>\n",
       "      <td>...</td>\n",
       "      <td>...</td>\n",
       "      <td>...</td>\n",
       "      <td>...</td>\n",
       "      <td>...</td>\n",
       "      <td>...</td>\n",
       "      <td>...</td>\n",
       "      <td>...</td>\n",
       "    </tr>\n",
       "    <tr>\n",
       "      <th>742</th>\n",
       "      <td>742</td>\n",
       "      <td>2011-11-23</td>\n",
       "      <td>9.0</td>\n",
       "      <td>10.0</td>\n",
       "      <td>Austrian Airlines customer review</td>\n",
       "      <td>Tim Pfister</td>\n",
       "      <td>United States</td>\n",
       "      <td>2011-11-23</td>\n",
       "      <td>I routinely commute between Vienna and New Yor...</td>\n",
       "      <td>NaN</td>\n",
       "      <td>Economy Class</td>\n",
       "      <td>NaN</td>\n",
       "      <td>NaN</td>\n",
       "      <td>NaN</td>\n",
       "      <td>NaN</td>\n",
       "      <td>NaN</td>\n",
       "    </tr>\n",
       "    <tr>\n",
       "      <th>743</th>\n",
       "      <td>743</td>\n",
       "      <td>2011-11-22</td>\n",
       "      <td>3.0</td>\n",
       "      <td>10.0</td>\n",
       "      <td>Austrian Airlines customer review</td>\n",
       "      <td>E McCall</td>\n",
       "      <td>Canada</td>\n",
       "      <td>2011-11-22</td>\n",
       "      <td>Toronto-Vienna and Prague-Vienna-Toronto. Depa...</td>\n",
       "      <td>NaN</td>\n",
       "      <td>Economy Class</td>\n",
       "      <td>NaN</td>\n",
       "      <td>NaN</td>\n",
       "      <td>no</td>\n",
       "      <td>NaN</td>\n",
       "      <td>NaN</td>\n",
       "    </tr>\n",
       "    <tr>\n",
       "      <th>744</th>\n",
       "      <td>744</td>\n",
       "      <td>2011-11-22</td>\n",
       "      <td>7.0</td>\n",
       "      <td>10.0</td>\n",
       "      <td>Austrian Airlines customer review</td>\n",
       "      <td>D Rafael</td>\n",
       "      <td>Austria</td>\n",
       "      <td>2011-11-22</td>\n",
       "      <td>AMS-VIE. Had an extremely cheap ticket so wasn...</td>\n",
       "      <td>NaN</td>\n",
       "      <td>Economy Class</td>\n",
       "      <td>NaN</td>\n",
       "      <td>NaN</td>\n",
       "      <td>NaN</td>\n",
       "      <td>NaN</td>\n",
       "      <td>NaN</td>\n",
       "    </tr>\n",
       "    <tr>\n",
       "      <th>745</th>\n",
       "      <td>745</td>\n",
       "      <td>2011-11-11</td>\n",
       "      <td>8.0</td>\n",
       "      <td>10.0</td>\n",
       "      <td>Austrian Airlines customer review</td>\n",
       "      <td>O Müller</td>\n",
       "      <td>Switzerland</td>\n",
       "      <td>2011-11-11</td>\n",
       "      <td>ZRH-VIE-SOF-VIE first and last leg on A320 VIE...</td>\n",
       "      <td>NaN</td>\n",
       "      <td>Economy Class</td>\n",
       "      <td>NaN</td>\n",
       "      <td>NaN</td>\n",
       "      <td>NaN</td>\n",
       "      <td>NaN</td>\n",
       "      <td>NaN</td>\n",
       "    </tr>\n",
       "    <tr>\n",
       "      <th>746</th>\n",
       "      <td>746</td>\n",
       "      <td>2011-11-01</td>\n",
       "      <td>7.0</td>\n",
       "      <td>10.0</td>\n",
       "      <td>Austrian Airlines customer review</td>\n",
       "      <td>Nattawat Krittayanawat</td>\n",
       "      <td>Thailand</td>\n",
       "      <td>2011-11-01</td>\n",
       "      <td>BKK-VIE-PRG. If you don't mind a narrow and un...</td>\n",
       "      <td>NaN</td>\n",
       "      <td>Economy Class</td>\n",
       "      <td>NaN</td>\n",
       "      <td>NaN</td>\n",
       "      <td>NaN</td>\n",
       "      <td>NaN</td>\n",
       "      <td>NaN</td>\n",
       "    </tr>\n",
       "  </tbody>\n",
       "</table>\n",
       "<p>747 rows × 16 columns</p>\n",
       "</div>"
      ],
      "text/plain": [
       "     Unnamed: 0 Date Published  Rating  Max Rating  \\\n",
       "0             0     2024-03-05     1.0        10.0   \n",
       "1             1     2024-02-28     2.0        10.0   \n",
       "2             2     2024-01-16     1.0        10.0   \n",
       "3             3     2024-01-12     8.0        10.0   \n",
       "4             4     2024-01-09     3.0        10.0   \n",
       "..          ...            ...     ...         ...   \n",
       "742         742     2011-11-23     9.0        10.0   \n",
       "743         743     2011-11-22     3.0        10.0   \n",
       "744         744     2011-11-22     7.0        10.0   \n",
       "745         745     2011-11-11     8.0        10.0   \n",
       "746         746     2011-11-01     7.0        10.0   \n",
       "\n",
       "                                    Title                  Author  \\\n",
       "0    \"poor ability to communicate policy\"      Kristina Gollinger   \n",
       "1             “Austrian dropped the ball”                  E Kemp   \n",
       "2                 \"an arduous experience\"        Sonia Ashrafpour   \n",
       "3    \"professional and polite cabin crew\"             Karim Fahim   \n",
       "4                 “No apology whatsoever”             Thomas Wenn   \n",
       "..                                    ...                     ...   \n",
       "742     Austrian Airlines customer review             Tim Pfister   \n",
       "743     Austrian Airlines customer review                E McCall   \n",
       "744     Austrian Airlines customer review                D Rafael   \n",
       "745     Austrian Airlines customer review                O Müller   \n",
       "746     Austrian Airlines customer review  Nattawat Krittayanawat   \n",
       "\n",
       "            Country        Date  \\\n",
       "0     United States  2024-03-05   \n",
       "1     United States  2024-02-28   \n",
       "2       Switzerland  2024-01-16   \n",
       "3    Czech Republic  2024-01-12   \n",
       "4    United Kingdom  2024-01-09   \n",
       "..              ...         ...   \n",
       "742   United States  2011-11-23   \n",
       "743          Canada  2011-11-22   \n",
       "744         Austria  2011-11-22   \n",
       "745     Switzerland  2011-11-11   \n",
       "746        Thailand  2011-11-01   \n",
       "\n",
       "                                           Review Body Type Of Traveller  \\\n",
       "0      The flight was never taken. My review that I...    Family Leisure   \n",
       "1     I just returned from a 2 weeks trip in Europe...      Solo Leisure   \n",
       "2      My experience was far from satisfactory. The...    Couple Leisure   \n",
       "3      Austrian Airlines are really nice, decent ca...      Solo Leisure   \n",
       "4     This airline didn't load my baggage onto my o...      Solo Leisure   \n",
       "..                                                 ...               ...   \n",
       "742  I routinely commute between Vienna and New Yor...               NaN   \n",
       "743  Toronto-Vienna and Prague-Vienna-Toronto. Depa...               NaN   \n",
       "744  AMS-VIE. Had an extremely cheap ticket so wasn...               NaN   \n",
       "745  ZRH-VIE-SOF-VIE first and last leg on A320 VIE...               NaN   \n",
       "746  BKK-VIE-PRG. If you don't mind a narrow and un...               NaN   \n",
       "\n",
       "          Seat Type                                  Route     Date Flown  \\\n",
       "0     Economy Class                  Los Angeles to Vienna       May 2023   \n",
       "1    Business Class                    Vienna to Paris CDG  February 2024   \n",
       "2     Economy Class                      Vienna to Bangkok  December 2023   \n",
       "3     Economy Class             Prague to Cairo via Vienna  December 2023   \n",
       "4     Economy Class  Bangkok to London Heathrow via Vienna  December 2023   \n",
       "..              ...                                    ...            ...   \n",
       "742   Economy Class                                    NaN            NaN   \n",
       "743   Economy Class                                    NaN            NaN   \n",
       "744   Economy Class                                    NaN            NaN   \n",
       "745   Economy Class                                    NaN            NaN   \n",
       "746   Economy Class                                    NaN            NaN   \n",
       "\n",
       "    Recommended Aircraft  Verified  \n",
       "0            no      NaN       1.0  \n",
       "1            no      NaN       1.0  \n",
       "2            no      NaN       1.0  \n",
       "3           NaN      NaN       1.0  \n",
       "4            no      NaN       0.0  \n",
       "..          ...      ...       ...  \n",
       "742         NaN      NaN       NaN  \n",
       "743          no      NaN       NaN  \n",
       "744         NaN      NaN       NaN  \n",
       "745         NaN      NaN       NaN  \n",
       "746         NaN      NaN       NaN  \n",
       "\n",
       "[747 rows x 16 columns]"
      ]
     },
     "execution_count": 41,
     "metadata": {},
     "output_type": "execute_result"
    }
   ],
   "source": [
    "df = pd.read_csv(\"C:\\\\Users\\\\Administrator\\\\Downloads\\\\archive\\\\austrian_airlines_reviews.csv\")\n",
    "df"
   ]
  },
  {
   "cell_type": "code",
   "execution_count": 7,
   "metadata": {},
   "outputs": [],
   "source": [
    "import numpy as np\n",
    "import pandas as pd"
   ]
  },
  {
   "cell_type": "code",
   "execution_count": null,
   "metadata": {},
   "outputs": [
    {
     "data": {
      "text/plain": [
       "0       United States\n",
       "1       United States\n",
       "2         Switzerland\n",
       "3      Czech Republic\n",
       "4      United Kingdom\n",
       "            ...      \n",
       "742     United States\n",
       "743            Canada\n",
       "744           Austria\n",
       "745       Switzerland\n",
       "746          Thailand\n",
       "Name: Country, Length: 747, dtype: object"
      ]
     },
     "execution_count": 39,
     "metadata": {},
     "output_type": "execute_result"
    }
   ],
   "source": [
    "df['Country']"
   ]
  },
  {
   "cell_type": "code",
   "execution_count": null,
   "metadata": {},
   "outputs": [],
   "source": []
  },
  {
   "cell_type": "code",
   "execution_count": null,
   "metadata": {},
   "outputs": [
    {
     "name": "stdout",
     "output_type": "stream",
     "text": [
      "United States\n"
     ]
    },
    {
     "data": {
      "text/html": [
       "<div>\n",
       "<style scoped>\n",
       "    .dataframe tbody tr th:only-of-type {\n",
       "        vertical-align: middle;\n",
       "    }\n",
       "\n",
       "    .dataframe tbody tr th {\n",
       "        vertical-align: top;\n",
       "    }\n",
       "\n",
       "    .dataframe thead th {\n",
       "        text-align: right;\n",
       "    }\n",
       "</style>\n",
       "<table border=\"1\" class=\"dataframe\">\n",
       "  <thead>\n",
       "    <tr style=\"text-align: right;\">\n",
       "      <th></th>\n",
       "      <th>Unnamed: 0</th>\n",
       "      <th>Date Published</th>\n",
       "      <th>Rating</th>\n",
       "      <th>Max Rating</th>\n",
       "      <th>Title</th>\n",
       "      <th>Author</th>\n",
       "      <th>Country</th>\n",
       "      <th>Date</th>\n",
       "      <th>Review Body</th>\n",
       "      <th>Type Of Traveller</th>\n",
       "      <th>Seat Type</th>\n",
       "      <th>Route</th>\n",
       "      <th>Date Flown</th>\n",
       "      <th>Recommended</th>\n",
       "      <th>Aircraft</th>\n",
       "      <th>Verified</th>\n",
       "    </tr>\n",
       "  </thead>\n",
       "  <tbody>\n",
       "    <tr>\n",
       "      <th>0</th>\n",
       "      <td>0</td>\n",
       "      <td>2024-03-05</td>\n",
       "      <td>1.0</td>\n",
       "      <td>10.0</td>\n",
       "      <td>\"poor ability to communicate policy\"</td>\n",
       "      <td>Kristina Gollinger</td>\n",
       "      <td>United States</td>\n",
       "      <td>2024-03-05</td>\n",
       "      <td>The flight was never taken. My review that I...</td>\n",
       "      <td>Family Leisure</td>\n",
       "      <td>Economy Class</td>\n",
       "      <td>Los Angeles to Vienna</td>\n",
       "      <td>May 2023</td>\n",
       "      <td>no</td>\n",
       "      <td>NaN</td>\n",
       "      <td>1.0</td>\n",
       "    </tr>\n",
       "    <tr>\n",
       "      <th>1</th>\n",
       "      <td>1</td>\n",
       "      <td>2024-02-28</td>\n",
       "      <td>2.0</td>\n",
       "      <td>10.0</td>\n",
       "      <td>“Austrian dropped the ball”</td>\n",
       "      <td>E Kemp</td>\n",
       "      <td>United States</td>\n",
       "      <td>2024-02-28</td>\n",
       "      <td>I just returned from a 2 weeks trip in Europe...</td>\n",
       "      <td>Solo Leisure</td>\n",
       "      <td>Business Class</td>\n",
       "      <td>Vienna to Paris CDG</td>\n",
       "      <td>February 2024</td>\n",
       "      <td>no</td>\n",
       "      <td>NaN</td>\n",
       "      <td>1.0</td>\n",
       "    </tr>\n",
       "    <tr>\n",
       "      <th>6</th>\n",
       "      <td>6</td>\n",
       "      <td>2023-12-20</td>\n",
       "      <td>2.0</td>\n",
       "      <td>10.0</td>\n",
       "      <td>\"lost my 2 luggage for 10 days\"</td>\n",
       "      <td>F Klee</td>\n",
       "      <td>United States</td>\n",
       "      <td>2023-12-20</td>\n",
       "      <td>I always loved this airline but this time, t...</td>\n",
       "      <td>Family Leisure</td>\n",
       "      <td>Economy Class</td>\n",
       "      <td>Chicago to Skopje via Vienna</td>\n",
       "      <td>July 2023</td>\n",
       "      <td>no</td>\n",
       "      <td>NaN</td>\n",
       "      <td>1.0</td>\n",
       "    </tr>\n",
       "    <tr>\n",
       "      <th>7</th>\n",
       "      <td>7</td>\n",
       "      <td>2023-12-17</td>\n",
       "      <td>1.0</td>\n",
       "      <td>10.0</td>\n",
       "      <td>\"never fly Austrian airlines again\"</td>\n",
       "      <td>S Hayne</td>\n",
       "      <td>United States</td>\n",
       "      <td>2023-12-17</td>\n",
       "      <td>I had an economy flight from Vienna to Frank...</td>\n",
       "      <td>Solo Leisure</td>\n",
       "      <td>Economy Class</td>\n",
       "      <td>Vienna to Frankfurt</td>\n",
       "      <td>December 2023</td>\n",
       "      <td>no</td>\n",
       "      <td>NaN</td>\n",
       "      <td>1.0</td>\n",
       "    </tr>\n",
       "    <tr>\n",
       "      <th>8</th>\n",
       "      <td>8</td>\n",
       "      <td>2023-12-09</td>\n",
       "      <td>1.0</td>\n",
       "      <td>10.0</td>\n",
       "      <td>\"Worst airline experience\"</td>\n",
       "      <td>R Morten</td>\n",
       "      <td>United States</td>\n",
       "      <td>2023-12-09</td>\n",
       "      <td>Worst airline experience ever. More or bett...</td>\n",
       "      <td>Couple Leisure</td>\n",
       "      <td>Economy Class</td>\n",
       "      <td>Vienna to Newark</td>\n",
       "      <td>November 2023</td>\n",
       "      <td>no</td>\n",
       "      <td>NaN</td>\n",
       "      <td>1.0</td>\n",
       "    </tr>\n",
       "    <tr>\n",
       "      <th>...</th>\n",
       "      <td>...</td>\n",
       "      <td>...</td>\n",
       "      <td>...</td>\n",
       "      <td>...</td>\n",
       "      <td>...</td>\n",
       "      <td>...</td>\n",
       "      <td>...</td>\n",
       "      <td>...</td>\n",
       "      <td>...</td>\n",
       "      <td>...</td>\n",
       "      <td>...</td>\n",
       "      <td>...</td>\n",
       "      <td>...</td>\n",
       "      <td>...</td>\n",
       "      <td>...</td>\n",
       "      <td>...</td>\n",
       "    </tr>\n",
       "    <tr>\n",
       "      <th>670</th>\n",
       "      <td>670</td>\n",
       "      <td>2012-12-30</td>\n",
       "      <td>5.0</td>\n",
       "      <td>10.0</td>\n",
       "      <td>Austrian Airlines customer review</td>\n",
       "      <td>W Staab</td>\n",
       "      <td>United States</td>\n",
       "      <td>2012-12-30</td>\n",
       "      <td>JFK-Vienna-JFK. The seat space on the 777 in e...</td>\n",
       "      <td>NaN</td>\n",
       "      <td>Economy Class</td>\n",
       "      <td>NaN</td>\n",
       "      <td>NaN</td>\n",
       "      <td>NaN</td>\n",
       "      <td>NaN</td>\n",
       "      <td>NaN</td>\n",
       "    </tr>\n",
       "    <tr>\n",
       "      <th>700</th>\n",
       "      <td>700</td>\n",
       "      <td>2012-07-25</td>\n",
       "      <td>1.0</td>\n",
       "      <td>10.0</td>\n",
       "      <td>Austrian Airlines customer review</td>\n",
       "      <td>J Sawhney</td>\n",
       "      <td>United States</td>\n",
       "      <td>2012-07-25</td>\n",
       "      <td>One of the worst airlines I have flown. The pl...</td>\n",
       "      <td>NaN</td>\n",
       "      <td>Economy Class</td>\n",
       "      <td>NaN</td>\n",
       "      <td>NaN</td>\n",
       "      <td>no</td>\n",
       "      <td>NaN</td>\n",
       "      <td>NaN</td>\n",
       "    </tr>\n",
       "    <tr>\n",
       "      <th>721</th>\n",
       "      <td>721</td>\n",
       "      <td>2012-05-08</td>\n",
       "      <td>9.0</td>\n",
       "      <td>10.0</td>\n",
       "      <td>Austrian Airlines customer review</td>\n",
       "      <td>Michael Bernlohr</td>\n",
       "      <td>United States</td>\n",
       "      <td>2012-05-08</td>\n",
       "      <td>SJJ-VIE-IAD. All flights were good and on-time...</td>\n",
       "      <td>NaN</td>\n",
       "      <td>Economy Class</td>\n",
       "      <td>NaN</td>\n",
       "      <td>NaN</td>\n",
       "      <td>NaN</td>\n",
       "      <td>NaN</td>\n",
       "      <td>NaN</td>\n",
       "    </tr>\n",
       "    <tr>\n",
       "      <th>738</th>\n",
       "      <td>738</td>\n",
       "      <td>2012-01-10</td>\n",
       "      <td>8.0</td>\n",
       "      <td>10.0</td>\n",
       "      <td>Austrian Airlines customer review</td>\n",
       "      <td>S Azizo</td>\n",
       "      <td>United States</td>\n",
       "      <td>2012-01-10</td>\n",
       "      <td>VIE to JFK twice in less than a month. First w...</td>\n",
       "      <td>NaN</td>\n",
       "      <td>Economy Class</td>\n",
       "      <td>NaN</td>\n",
       "      <td>NaN</td>\n",
       "      <td>NaN</td>\n",
       "      <td>NaN</td>\n",
       "      <td>NaN</td>\n",
       "    </tr>\n",
       "    <tr>\n",
       "      <th>742</th>\n",
       "      <td>742</td>\n",
       "      <td>2011-11-23</td>\n",
       "      <td>9.0</td>\n",
       "      <td>10.0</td>\n",
       "      <td>Austrian Airlines customer review</td>\n",
       "      <td>Tim Pfister</td>\n",
       "      <td>United States</td>\n",
       "      <td>2011-11-23</td>\n",
       "      <td>I routinely commute between Vienna and New Yor...</td>\n",
       "      <td>NaN</td>\n",
       "      <td>Economy Class</td>\n",
       "      <td>NaN</td>\n",
       "      <td>NaN</td>\n",
       "      <td>NaN</td>\n",
       "      <td>NaN</td>\n",
       "      <td>NaN</td>\n",
       "    </tr>\n",
       "  </tbody>\n",
       "</table>\n",
       "<p>129 rows × 16 columns</p>\n",
       "</div>"
      ],
      "text/plain": [
       "     Unnamed: 0 Date Published  Rating  Max Rating  \\\n",
       "0             0     2024-03-05     1.0        10.0   \n",
       "1             1     2024-02-28     2.0        10.0   \n",
       "6             6     2023-12-20     2.0        10.0   \n",
       "7             7     2023-12-17     1.0        10.0   \n",
       "8             8     2023-12-09     1.0        10.0   \n",
       "..          ...            ...     ...         ...   \n",
       "670         670     2012-12-30     5.0        10.0   \n",
       "700         700     2012-07-25     1.0        10.0   \n",
       "721         721     2012-05-08     9.0        10.0   \n",
       "738         738     2012-01-10     8.0        10.0   \n",
       "742         742     2011-11-23     9.0        10.0   \n",
       "\n",
       "                                    Title              Author        Country  \\\n",
       "0    \"poor ability to communicate policy\"  Kristina Gollinger  United States   \n",
       "1             “Austrian dropped the ball”              E Kemp  United States   \n",
       "6         \"lost my 2 luggage for 10 days\"              F Klee  United States   \n",
       "7     \"never fly Austrian airlines again\"             S Hayne  United States   \n",
       "8              \"Worst airline experience\"            R Morten  United States   \n",
       "..                                    ...                 ...            ...   \n",
       "670     Austrian Airlines customer review             W Staab  United States   \n",
       "700     Austrian Airlines customer review           J Sawhney  United States   \n",
       "721     Austrian Airlines customer review    Michael Bernlohr  United States   \n",
       "738     Austrian Airlines customer review             S Azizo  United States   \n",
       "742     Austrian Airlines customer review         Tim Pfister  United States   \n",
       "\n",
       "           Date                                        Review Body  \\\n",
       "0    2024-03-05    The flight was never taken. My review that I...   \n",
       "1    2024-02-28   I just returned from a 2 weeks trip in Europe...   \n",
       "6    2023-12-20    I always loved this airline but this time, t...   \n",
       "7    2023-12-17    I had an economy flight from Vienna to Frank...   \n",
       "8    2023-12-09     Worst airline experience ever. More or bett...   \n",
       "..          ...                                                ...   \n",
       "670  2012-12-30  JFK-Vienna-JFK. The seat space on the 777 in e...   \n",
       "700  2012-07-25  One of the worst airlines I have flown. The pl...   \n",
       "721  2012-05-08  SJJ-VIE-IAD. All flights were good and on-time...   \n",
       "738  2012-01-10  VIE to JFK twice in less than a month. First w...   \n",
       "742  2011-11-23  I routinely commute between Vienna and New Yor...   \n",
       "\n",
       "    Type Of Traveller       Seat Type                         Route  \\\n",
       "0      Family Leisure   Economy Class         Los Angeles to Vienna   \n",
       "1        Solo Leisure  Business Class           Vienna to Paris CDG   \n",
       "6      Family Leisure   Economy Class  Chicago to Skopje via Vienna   \n",
       "7        Solo Leisure   Economy Class           Vienna to Frankfurt   \n",
       "8      Couple Leisure   Economy Class              Vienna to Newark   \n",
       "..                ...             ...                           ...   \n",
       "670               NaN   Economy Class                           NaN   \n",
       "700               NaN   Economy Class                           NaN   \n",
       "721               NaN   Economy Class                           NaN   \n",
       "738               NaN   Economy Class                           NaN   \n",
       "742               NaN   Economy Class                           NaN   \n",
       "\n",
       "        Date Flown Recommended Aircraft  Verified  \n",
       "0         May 2023          no      NaN       1.0  \n",
       "1    February 2024          no      NaN       1.0  \n",
       "6        July 2023          no      NaN       1.0  \n",
       "7    December 2023          no      NaN       1.0  \n",
       "8    November 2023          no      NaN       1.0  \n",
       "..             ...         ...      ...       ...  \n",
       "670            NaN         NaN      NaN       NaN  \n",
       "700            NaN          no      NaN       NaN  \n",
       "721            NaN         NaN      NaN       NaN  \n",
       "738            NaN         NaN      NaN       NaN  \n",
       "742            NaN         NaN      NaN       NaN  \n",
       "\n",
       "[129 rows x 16 columns]"
      ]
     },
     "execution_count": 46,
     "metadata": {},
     "output_type": "execute_result"
    }
   ],
   "source": [
    "count = df['Country'].value_counts()\n",
    "highestcount = count.idxmax()\n",
    "print(highestcount)\n",
    "df[df['Country'] == highestcount]"
   ]
  },
  {
   "cell_type": "code",
   "execution_count": null,
   "metadata": {},
   "outputs": [
    {
     "data": {
      "text/plain": [
       "0       United States\n",
       "1       United States\n",
       "2         Switzerland\n",
       "3      Czech Republic\n",
       "4      United Kingdom\n",
       "            ...      \n",
       "742     United States\n",
       "743            Canada\n",
       "744           Austria\n",
       "745       Switzerland\n",
       "746          Thailand\n",
       "Name: Country, Length: 747, dtype: object"
      ]
     },
     "execution_count": 44,
     "metadata": {},
     "output_type": "execute_result"
    }
   ],
   "source": []
  },
  {
   "cell_type": "code",
   "execution_count": 21,
   "metadata": {},
   "outputs": [],
   "source": [
    "import pandas as pd"
   ]
  },
  {
   "cell_type": "code",
   "execution_count": null,
   "metadata": {},
   "outputs": [
    {
     "name": "stdout",
     "output_type": "stream",
     "text": [
      "   A  B\n",
      "1  1  2\n",
      "2  3  4\n",
      "3  5  6\n"
     ]
    }
   ],
   "source": [
    "s=pd.Series([1,2,3])\n",
    "df=pd.DataFrame(np.array([[1,2],[3,4],[5,6]]), index=s, columns=list(\"AB\"))\n",
    "print(df)"
   ]
  },
  {
   "cell_type": "code",
   "execution_count": 8,
   "metadata": {},
   "outputs": [
    {
     "data": {
      "text/html": [
       "<div>\n",
       "<style scoped>\n",
       "    .dataframe tbody tr th:only-of-type {\n",
       "        vertical-align: middle;\n",
       "    }\n",
       "\n",
       "    .dataframe tbody tr th {\n",
       "        vertical-align: top;\n",
       "    }\n",
       "\n",
       "    .dataframe thead th {\n",
       "        text-align: right;\n",
       "    }\n",
       "</style>\n",
       "<table border=\"1\" class=\"dataframe\">\n",
       "  <thead>\n",
       "    <tr style=\"text-align: right;\">\n",
       "      <th></th>\n",
       "      <th>id</th>\n",
       "      <th>name</th>\n",
       "      <th>gender</th>\n",
       "      <th>age</th>\n",
       "      <th>degree</th>\n",
       "      <th>stream</th>\n",
       "      <th>college_name</th>\n",
       "      <th>placement_status</th>\n",
       "      <th>salary</th>\n",
       "      <th>gpa</th>\n",
       "      <th>years_of_experience</th>\n",
       "    </tr>\n",
       "  </thead>\n",
       "  <tbody>\n",
       "    <tr>\n",
       "      <th>0</th>\n",
       "      <td>1</td>\n",
       "      <td>John Doe</td>\n",
       "      <td>Male</td>\n",
       "      <td>25</td>\n",
       "      <td>Bachelor's</td>\n",
       "      <td>Computer Science</td>\n",
       "      <td>Harvard University</td>\n",
       "      <td>Placed</td>\n",
       "      <td>60000</td>\n",
       "      <td>3.7</td>\n",
       "      <td>2.0</td>\n",
       "    </tr>\n",
       "    <tr>\n",
       "      <th>1</th>\n",
       "      <td>2</td>\n",
       "      <td>Jane Smith</td>\n",
       "      <td>Female</td>\n",
       "      <td>24</td>\n",
       "      <td>Bachelor's</td>\n",
       "      <td>Electrical Engineering</td>\n",
       "      <td>Massachusetts Institute of Technology</td>\n",
       "      <td>Placed</td>\n",
       "      <td>65000</td>\n",
       "      <td>3.6</td>\n",
       "      <td>1.0</td>\n",
       "    </tr>\n",
       "    <tr>\n",
       "      <th>2</th>\n",
       "      <td>3</td>\n",
       "      <td>Michael Johnson</td>\n",
       "      <td>Male</td>\n",
       "      <td>26</td>\n",
       "      <td>Bachelor's</td>\n",
       "      <td>Mechanical Engineering</td>\n",
       "      <td>Stanford University</td>\n",
       "      <td>Placed</td>\n",
       "      <td>58000</td>\n",
       "      <td>3.8</td>\n",
       "      <td>3.0</td>\n",
       "    </tr>\n",
       "    <tr>\n",
       "      <th>3</th>\n",
       "      <td>4</td>\n",
       "      <td>Emily Davis</td>\n",
       "      <td>Female</td>\n",
       "      <td>23</td>\n",
       "      <td>Bachelor's</td>\n",
       "      <td>Information Technology</td>\n",
       "      <td>Yale University</td>\n",
       "      <td>Not Placed</td>\n",
       "      <td>0</td>\n",
       "      <td>3.5</td>\n",
       "      <td>2.0</td>\n",
       "    </tr>\n",
       "    <tr>\n",
       "      <th>4</th>\n",
       "      <td>5</td>\n",
       "      <td>David Brown</td>\n",
       "      <td>Male</td>\n",
       "      <td>24</td>\n",
       "      <td>Bachelor's</td>\n",
       "      <td>Computer Science</td>\n",
       "      <td>Princeton University</td>\n",
       "      <td>Placed</td>\n",
       "      <td>62000</td>\n",
       "      <td>3.9</td>\n",
       "      <td>2.0</td>\n",
       "    </tr>\n",
       "    <tr>\n",
       "      <th>...</th>\n",
       "      <td>...</td>\n",
       "      <td>...</td>\n",
       "      <td>...</td>\n",
       "      <td>...</td>\n",
       "      <td>...</td>\n",
       "      <td>...</td>\n",
       "      <td>...</td>\n",
       "      <td>...</td>\n",
       "      <td>...</td>\n",
       "      <td>...</td>\n",
       "      <td>...</td>\n",
       "    </tr>\n",
       "    <tr>\n",
       "      <th>695</th>\n",
       "      <td>696</td>\n",
       "      <td>Lucas Taylor</td>\n",
       "      <td>Male</td>\n",
       "      <td>23</td>\n",
       "      <td>Bachelor's</td>\n",
       "      <td>Computer Science</td>\n",
       "      <td>University of Washington</td>\n",
       "      <td>Placed</td>\n",
       "      <td>67000</td>\n",
       "      <td>3.8</td>\n",
       "      <td>3.0</td>\n",
       "    </tr>\n",
       "    <tr>\n",
       "      <th>696</th>\n",
       "      <td>697</td>\n",
       "      <td>Emma Martinez</td>\n",
       "      <td>Female</td>\n",
       "      <td>26</td>\n",
       "      <td>Bachelor's</td>\n",
       "      <td>Electronics and Communication</td>\n",
       "      <td>University of California--Berkeley</td>\n",
       "      <td>Placed</td>\n",
       "      <td>66000</td>\n",
       "      <td>3.9</td>\n",
       "      <td>3.0</td>\n",
       "    </tr>\n",
       "    <tr>\n",
       "      <th>697</th>\n",
       "      <td>698</td>\n",
       "      <td>Aiden Davis</td>\n",
       "      <td>Male</td>\n",
       "      <td>24</td>\n",
       "      <td>Bachelor's</td>\n",
       "      <td>Computer Science</td>\n",
       "      <td>University of Illinois--Urbana-Champaign</td>\n",
       "      <td>Placed</td>\n",
       "      <td>65000</td>\n",
       "      <td>3.8</td>\n",
       "      <td>3.0</td>\n",
       "    </tr>\n",
       "    <tr>\n",
       "      <th>698</th>\n",
       "      <td>699</td>\n",
       "      <td>Mia Wilson</td>\n",
       "      <td>Female</td>\n",
       "      <td>23</td>\n",
       "      <td>Bachelor's</td>\n",
       "      <td>Electrical Engineering</td>\n",
       "      <td>University of Colorado--Boulder</td>\n",
       "      <td>Placed</td>\n",
       "      <td>66000</td>\n",
       "      <td>3.7</td>\n",
       "      <td>2.0</td>\n",
       "    </tr>\n",
       "    <tr>\n",
       "      <th>699</th>\n",
       "      <td>700</td>\n",
       "      <td>Jack Garcia</td>\n",
       "      <td>Male</td>\n",
       "      <td>26</td>\n",
       "      <td>Bachelor's</td>\n",
       "      <td>Information Technology</td>\n",
       "      <td>University of North Carolina--Chapel Hill</td>\n",
       "      <td>Not Placed</td>\n",
       "      <td>0</td>\n",
       "      <td>3.6</td>\n",
       "      <td>1.0</td>\n",
       "    </tr>\n",
       "  </tbody>\n",
       "</table>\n",
       "<p>700 rows × 11 columns</p>\n",
       "</div>"
      ],
      "text/plain": [
       "      id             name  gender  age      degree  \\\n",
       "0      1         John Doe    Male   25  Bachelor's   \n",
       "1      2       Jane Smith  Female   24  Bachelor's   \n",
       "2      3  Michael Johnson    Male   26  Bachelor's   \n",
       "3      4      Emily Davis  Female   23  Bachelor's   \n",
       "4      5      David Brown    Male   24  Bachelor's   \n",
       "..   ...              ...     ...  ...         ...   \n",
       "695  696     Lucas Taylor    Male   23  Bachelor's   \n",
       "696  697    Emma Martinez  Female   26  Bachelor's   \n",
       "697  698      Aiden Davis    Male   24  Bachelor's   \n",
       "698  699       Mia Wilson  Female   23  Bachelor's   \n",
       "699  700      Jack Garcia    Male   26  Bachelor's   \n",
       "\n",
       "                            stream                               college_name  \\\n",
       "0                 Computer Science                         Harvard University   \n",
       "1           Electrical Engineering      Massachusetts Institute of Technology   \n",
       "2           Mechanical Engineering                        Stanford University   \n",
       "3           Information Technology                            Yale University   \n",
       "4                 Computer Science                       Princeton University   \n",
       "..                             ...                                        ...   \n",
       "695               Computer Science                   University of Washington   \n",
       "696  Electronics and Communication         University of California--Berkeley   \n",
       "697               Computer Science   University of Illinois--Urbana-Champaign   \n",
       "698         Electrical Engineering            University of Colorado--Boulder   \n",
       "699         Information Technology  University of North Carolina--Chapel Hill   \n",
       "\n",
       "    placement_status  salary  gpa  years_of_experience  \n",
       "0             Placed   60000  3.7                  2.0  \n",
       "1             Placed   65000  3.6                  1.0  \n",
       "2             Placed   58000  3.8                  3.0  \n",
       "3         Not Placed       0  3.5                  2.0  \n",
       "4             Placed   62000  3.9                  2.0  \n",
       "..               ...     ...  ...                  ...  \n",
       "695           Placed   67000  3.8                  3.0  \n",
       "696           Placed   66000  3.9                  3.0  \n",
       "697           Placed   65000  3.8                  3.0  \n",
       "698           Placed   66000  3.7                  2.0  \n",
       "699       Not Placed       0  3.6                  1.0  \n",
       "\n",
       "[700 rows x 11 columns]"
      ]
     },
     "execution_count": 8,
     "metadata": {},
     "output_type": "execute_result"
    }
   ],
   "source": [
    "df = pd.read_csv(\"C:\\\\Users\\\\Administrator\\\\Downloads\\\\archive (1)\\\\job_placement.csv\")\n",
    "df"
   ]
  },
  {
   "cell_type": "code",
   "execution_count": null,
   "metadata": {},
   "outputs": [
    {
     "data": {
      "text/plain": [
       "0.1721311475409836"
      ]
     },
     "execution_count": 9,
     "metadata": {},
     "output_type": "execute_result"
    }
   ],
   "source": [
    "len(df.loc[(df.gender=='Female') & (df.placement_status == 'Not Placed')]) / len(df.loc[(df.gender=='Female')])"
   ]
  },
  {
   "cell_type": "code",
   "execution_count": null,
   "metadata": {},
   "outputs": [
    {
     "data": {
      "text/plain": [
       "0.20059880239520958"
      ]
     },
     "execution_count": 79,
     "metadata": {},
     "output_type": "execute_result"
    }
   ],
   "source": [
    "len(df.loc[(df.gender=='Male') & (df.placement_status == 'Not Placed')]) / len(df.loc[(df.gender=='Male')])"
   ]
  },
  {
   "cell_type": "code",
   "execution_count": null,
   "metadata": {},
   "outputs": [
    {
     "data": {
      "text/plain": [
       "51458.08383233533"
      ]
     },
     "execution_count": 10,
     "metadata": {},
     "output_type": "execute_result"
    }
   ],
   "source": [
    "# do males earn higer than women ?\n",
    "\n",
    "\n",
    "\n",
    "df.loc[(df.gender =='Male')].salary.sum() / len(df.loc[(df.gender == 'Male')]) "
   ]
  },
  {
   "cell_type": "code",
   "execution_count": null,
   "metadata": {},
   "outputs": [
    {
     "name": "stdout",
     "output_type": "stream",
     "text": [
      "Computer Science 48359.81308411215\n",
      "Electrical Engineering 51544.642857142855\n",
      "Mechanical Engineering 52180.18018018018\n",
      "Information Technology 54407.89473684211\n",
      "Electronics and Communication 58990.99099099099\n"
     ]
    }
   ],
   "source": [
    "for i in df.stream.unique():\n",
    "    print(i,df.loc[(df.stream==i)].salary.sum() / len(df.loc[(df.stream== i)]))"
   ]
  },
  {
   "cell_type": "code",
   "execution_count": null,
   "metadata": {},
   "outputs": [
    {
     "name": "stdout",
     "output_type": "stream",
     "text": [
      "Computer Science\n",
      "10349000\n",
      "the stream Computer Science earns highest salary is 10349000\n"
     ]
    }
   ],
   "source": [
    "#which stream earn the most ?\n",
    "stream_salaries = df.groupby('stream')['salary'].sum()\n",
    "\n",
    "highest_earning_stream = stream_salaries.idxmax()\n",
    "highest_earning_salary = stream_salaries.max()\n",
    "\n",
    "\n",
    "print(highest_earning_stream)\n",
    "print(highest_earning_salary)\n",
    "\n",
    "print(f\"the stream {highest_earning_stream} earns highest salary is {highest_earning_salary}\")\n"
   ]
  },
  {
   "cell_type": "code",
   "execution_count": null,
   "metadata": {},
   "outputs": [
    {
     "name": "stdout",
     "output_type": "stream",
     "text": [
      "stream\n",
      "Computer Science                 10349000\n",
      "Electrical Engineering            5773000\n",
      "Electronics and Communication     6548000\n",
      "Information Technology            8270000\n",
      "Mechanical Engineering            5792000\n",
      "Name: salary, dtype: int64\n",
      "Computer Science\n",
      "10349000\n",
      "The best stream for women is 'Computer Science' with an highest salary of 10349000.\n"
     ]
    },
    {
     "data": {
      "text/html": [
       "<div>\n",
       "<style scoped>\n",
       "    .dataframe tbody tr th:only-of-type {\n",
       "        vertical-align: middle;\n",
       "    }\n",
       "\n",
       "    .dataframe tbody tr th {\n",
       "        vertical-align: top;\n",
       "    }\n",
       "\n",
       "    .dataframe thead th {\n",
       "        text-align: right;\n",
       "    }\n",
       "</style>\n",
       "<table border=\"1\" class=\"dataframe\">\n",
       "  <thead>\n",
       "    <tr style=\"text-align: right;\">\n",
       "      <th></th>\n",
       "      <th>id</th>\n",
       "      <th>name</th>\n",
       "      <th>gender</th>\n",
       "      <th>age</th>\n",
       "      <th>degree</th>\n",
       "      <th>stream</th>\n",
       "      <th>college_name</th>\n",
       "      <th>placement_status</th>\n",
       "      <th>salary</th>\n",
       "      <th>gpa</th>\n",
       "      <th>years_of_experience</th>\n",
       "    </tr>\n",
       "  </thead>\n",
       "  <tbody>\n",
       "    <tr>\n",
       "      <th>0</th>\n",
       "      <td>1</td>\n",
       "      <td>John Doe</td>\n",
       "      <td>Male</td>\n",
       "      <td>25</td>\n",
       "      <td>Bachelor's</td>\n",
       "      <td>Computer Science</td>\n",
       "      <td>Harvard University</td>\n",
       "      <td>Placed</td>\n",
       "      <td>60000</td>\n",
       "      <td>3.7</td>\n",
       "      <td>2.0</td>\n",
       "    </tr>\n",
       "    <tr>\n",
       "      <th>1</th>\n",
       "      <td>2</td>\n",
       "      <td>Jane Smith</td>\n",
       "      <td>Female</td>\n",
       "      <td>24</td>\n",
       "      <td>Bachelor's</td>\n",
       "      <td>Electrical Engineering</td>\n",
       "      <td>Massachusetts Institute of Technology</td>\n",
       "      <td>Placed</td>\n",
       "      <td>65000</td>\n",
       "      <td>3.6</td>\n",
       "      <td>1.0</td>\n",
       "    </tr>\n",
       "    <tr>\n",
       "      <th>2</th>\n",
       "      <td>3</td>\n",
       "      <td>Michael Johnson</td>\n",
       "      <td>Male</td>\n",
       "      <td>26</td>\n",
       "      <td>Bachelor's</td>\n",
       "      <td>Mechanical Engineering</td>\n",
       "      <td>Stanford University</td>\n",
       "      <td>Placed</td>\n",
       "      <td>58000</td>\n",
       "      <td>3.8</td>\n",
       "      <td>3.0</td>\n",
       "    </tr>\n",
       "    <tr>\n",
       "      <th>3</th>\n",
       "      <td>4</td>\n",
       "      <td>Emily Davis</td>\n",
       "      <td>Female</td>\n",
       "      <td>23</td>\n",
       "      <td>Bachelor's</td>\n",
       "      <td>Information Technology</td>\n",
       "      <td>Yale University</td>\n",
       "      <td>Not Placed</td>\n",
       "      <td>0</td>\n",
       "      <td>3.5</td>\n",
       "      <td>2.0</td>\n",
       "    </tr>\n",
       "    <tr>\n",
       "      <th>4</th>\n",
       "      <td>5</td>\n",
       "      <td>David Brown</td>\n",
       "      <td>Male</td>\n",
       "      <td>24</td>\n",
       "      <td>Bachelor's</td>\n",
       "      <td>Computer Science</td>\n",
       "      <td>Princeton University</td>\n",
       "      <td>Placed</td>\n",
       "      <td>62000</td>\n",
       "      <td>3.9</td>\n",
       "      <td>2.0</td>\n",
       "    </tr>\n",
       "    <tr>\n",
       "      <th>...</th>\n",
       "      <td>...</td>\n",
       "      <td>...</td>\n",
       "      <td>...</td>\n",
       "      <td>...</td>\n",
       "      <td>...</td>\n",
       "      <td>...</td>\n",
       "      <td>...</td>\n",
       "      <td>...</td>\n",
       "      <td>...</td>\n",
       "      <td>...</td>\n",
       "      <td>...</td>\n",
       "    </tr>\n",
       "    <tr>\n",
       "      <th>695</th>\n",
       "      <td>696</td>\n",
       "      <td>Lucas Taylor</td>\n",
       "      <td>Male</td>\n",
       "      <td>23</td>\n",
       "      <td>Bachelor's</td>\n",
       "      <td>Computer Science</td>\n",
       "      <td>University of Washington</td>\n",
       "      <td>Placed</td>\n",
       "      <td>67000</td>\n",
       "      <td>3.8</td>\n",
       "      <td>3.0</td>\n",
       "    </tr>\n",
       "    <tr>\n",
       "      <th>696</th>\n",
       "      <td>697</td>\n",
       "      <td>Emma Martinez</td>\n",
       "      <td>Female</td>\n",
       "      <td>26</td>\n",
       "      <td>Bachelor's</td>\n",
       "      <td>Electronics and Communication</td>\n",
       "      <td>University of California--Berkeley</td>\n",
       "      <td>Placed</td>\n",
       "      <td>66000</td>\n",
       "      <td>3.9</td>\n",
       "      <td>3.0</td>\n",
       "    </tr>\n",
       "    <tr>\n",
       "      <th>697</th>\n",
       "      <td>698</td>\n",
       "      <td>Aiden Davis</td>\n",
       "      <td>Male</td>\n",
       "      <td>24</td>\n",
       "      <td>Bachelor's</td>\n",
       "      <td>Computer Science</td>\n",
       "      <td>University of Illinois--Urbana-Champaign</td>\n",
       "      <td>Placed</td>\n",
       "      <td>65000</td>\n",
       "      <td>3.8</td>\n",
       "      <td>3.0</td>\n",
       "    </tr>\n",
       "    <tr>\n",
       "      <th>698</th>\n",
       "      <td>699</td>\n",
       "      <td>Mia Wilson</td>\n",
       "      <td>Female</td>\n",
       "      <td>23</td>\n",
       "      <td>Bachelor's</td>\n",
       "      <td>Electrical Engineering</td>\n",
       "      <td>University of Colorado--Boulder</td>\n",
       "      <td>Placed</td>\n",
       "      <td>66000</td>\n",
       "      <td>3.7</td>\n",
       "      <td>2.0</td>\n",
       "    </tr>\n",
       "    <tr>\n",
       "      <th>699</th>\n",
       "      <td>700</td>\n",
       "      <td>Jack Garcia</td>\n",
       "      <td>Male</td>\n",
       "      <td>26</td>\n",
       "      <td>Bachelor's</td>\n",
       "      <td>Information Technology</td>\n",
       "      <td>University of North Carolina--Chapel Hill</td>\n",
       "      <td>Not Placed</td>\n",
       "      <td>0</td>\n",
       "      <td>3.6</td>\n",
       "      <td>1.0</td>\n",
       "    </tr>\n",
       "  </tbody>\n",
       "</table>\n",
       "<p>700 rows × 11 columns</p>\n",
       "</div>"
      ],
      "text/plain": [
       "      id             name  gender  age      degree  \\\n",
       "0      1         John Doe    Male   25  Bachelor's   \n",
       "1      2       Jane Smith  Female   24  Bachelor's   \n",
       "2      3  Michael Johnson    Male   26  Bachelor's   \n",
       "3      4      Emily Davis  Female   23  Bachelor's   \n",
       "4      5      David Brown    Male   24  Bachelor's   \n",
       "..   ...              ...     ...  ...         ...   \n",
       "695  696     Lucas Taylor    Male   23  Bachelor's   \n",
       "696  697    Emma Martinez  Female   26  Bachelor's   \n",
       "697  698      Aiden Davis    Male   24  Bachelor's   \n",
       "698  699       Mia Wilson  Female   23  Bachelor's   \n",
       "699  700      Jack Garcia    Male   26  Bachelor's   \n",
       "\n",
       "                            stream                               college_name  \\\n",
       "0                 Computer Science                         Harvard University   \n",
       "1           Electrical Engineering      Massachusetts Institute of Technology   \n",
       "2           Mechanical Engineering                        Stanford University   \n",
       "3           Information Technology                            Yale University   \n",
       "4                 Computer Science                       Princeton University   \n",
       "..                             ...                                        ...   \n",
       "695               Computer Science                   University of Washington   \n",
       "696  Electronics and Communication         University of California--Berkeley   \n",
       "697               Computer Science   University of Illinois--Urbana-Champaign   \n",
       "698         Electrical Engineering            University of Colorado--Boulder   \n",
       "699         Information Technology  University of North Carolina--Chapel Hill   \n",
       "\n",
       "    placement_status  salary  gpa  years_of_experience  \n",
       "0             Placed   60000  3.7                  2.0  \n",
       "1             Placed   65000  3.6                  1.0  \n",
       "2             Placed   58000  3.8                  3.0  \n",
       "3         Not Placed       0  3.5                  2.0  \n",
       "4             Placed   62000  3.9                  2.0  \n",
       "..               ...     ...  ...                  ...  \n",
       "695           Placed   67000  3.8                  3.0  \n",
       "696           Placed   66000  3.9                  3.0  \n",
       "697           Placed   65000  3.8                  3.0  \n",
       "698           Placed   66000  3.7                  2.0  \n",
       "699       Not Placed       0  3.6                  1.0  \n",
       "\n",
       "[700 rows x 11 columns]"
      ]
     },
     "execution_count": 8,
     "metadata": {},
     "output_type": "execute_result"
    }
   ],
   "source": [
    "\n",
    "stream_salaries = df.groupby('stream')['salary'].sum()\n",
    "\n",
    "df.loc[(df.gender =='Female')]\n",
    "\n",
    "best_stream_for_women = stream_salaries.idxmax()\n",
    "best_stream_avg_salary = stream_salaries.max()\n",
    "print(stream_salaries)\n",
    "print(best_stream_for_women)\n",
    "print(best_stream_avg_salary)\n",
    "\n",
    "print(f\"The best stream for women is '{best_stream_for_women}' with an highest salary of {best_stream_avg_salary}.\")\n",
    "\n",
    "(a)\n",
    "df"
   ]
  },
  {
   "cell_type": "code",
   "execution_count": null,
   "metadata": {},
   "outputs": [
    {
     "name": "stdout",
     "output_type": "stream",
     "text": [
      "('Female',       id               name  gender  age      degree  \\\n",
      "1      2         Jane Smith  Female   24  Bachelor's   \n",
      "3      4        Emily Davis  Female   23  Bachelor's   \n",
      "5      6       Sarah Wilson  Female   25  Bachelor's   \n",
      "7      8        Emma Garcia  Female   24  Bachelor's   \n",
      "9     10  Samantha Anderson  Female   23  Bachelor's   \n",
      "..   ...                ...     ...  ...         ...   \n",
      "690  691            Ava Lee  Female   24  Bachelor's   \n",
      "692  693  Isabella Martinez  Female   23  Bachelor's   \n",
      "694  695     Sophia Johnson  Female   24  Bachelor's   \n",
      "696  697      Emma Martinez  Female   26  Bachelor's   \n",
      "698  699         Mia Wilson  Female   23  Bachelor's   \n",
      "\n",
      "                            stream                             college_name  \\\n",
      "1           Electrical Engineering    Massachusetts Institute of Technology   \n",
      "3           Information Technology                          Yale University   \n",
      "5    Electronics and Communication                      Columbia University   \n",
      "7                 Computer Science                    University of Chicago   \n",
      "9           Mechanical Engineering                  Northwestern University   \n",
      "..                             ...                                      ...   \n",
      "690         Information Technology  University of California--San Francisco   \n",
      "692  Electronics and Communication                   University of Virginia   \n",
      "694         Mechanical Engineering               University of Pennsylvania   \n",
      "696  Electronics and Communication       University of California--Berkeley   \n",
      "698         Electrical Engineering          University of Colorado--Boulder   \n",
      "\n",
      "    placement_status  salary  gpa  years_of_experience  \n",
      "1             Placed   65000  3.6                  1.0  \n",
      "3         Not Placed       0  3.5                  2.0  \n",
      "5             Placed   63000  3.7                  1.0  \n",
      "7         Not Placed       0  3.6                  2.0  \n",
      "9             Placed   57000  3.5                  1.0  \n",
      "..               ...     ...  ...                  ...  \n",
      "690           Placed   66000  3.8                  3.0  \n",
      "692           Placed   64000  3.9                  2.0  \n",
      "694       Not Placed       0  3.7                  2.0  \n",
      "696           Placed   66000  3.9                  3.0  \n",
      "698           Placed   66000  3.7                  2.0  \n",
      "\n",
      "[366 rows x 11 columns])\n",
      "('Male',       id              name gender  age      degree                  stream  \\\n",
      "0      1          John Doe   Male   25  Bachelor's        Computer Science   \n",
      "2      3   Michael Johnson   Male   26  Bachelor's  Mechanical Engineering   \n",
      "4      5       David Brown   Male   24  Bachelor's        Computer Science   \n",
      "6      7    James Martinez   Male   26  Bachelor's  Information Technology   \n",
      "8      9  Alexander Taylor   Male   25  Bachelor's  Electrical Engineering   \n",
      "..   ...               ...    ...  ...         ...                     ...   \n",
      "691  692        Liam Perez   Male   25  Bachelor's        Computer Science   \n",
      "693  694     Alexander Lee   Male   26  Bachelor's  Information Technology   \n",
      "695  696      Lucas Taylor   Male   23  Bachelor's        Computer Science   \n",
      "697  698       Aiden Davis   Male   24  Bachelor's        Computer Science   \n",
      "699  700       Jack Garcia   Male   26  Bachelor's  Information Technology   \n",
      "\n",
      "                                  college_name placement_status  salary  gpa  \\\n",
      "0                           Harvard University           Placed   60000  3.7   \n",
      "2                          Stanford University           Placed   58000  3.8   \n",
      "4                         Princeton University           Placed   62000  3.9   \n",
      "6           California Institute of Technology           Placed   59000  3.8   \n",
      "8                   University of Pennsylvania           Placed   64000  3.7   \n",
      "..                                         ...              ...     ...  ...   \n",
      "691                University of Texas--Dallas           Placed   63000  3.6   \n",
      "693          University of Michigan--Ann Arbor           Placed   67000  3.9   \n",
      "695                   University of Washington           Placed   67000  3.8   \n",
      "697   University of Illinois--Urbana-Champaign           Placed   65000  3.8   \n",
      "699  University of North Carolina--Chapel Hill       Not Placed       0  3.6   \n",
      "\n",
      "     years_of_experience  \n",
      "0                    2.0  \n",
      "2                    3.0  \n",
      "4                    2.0  \n",
      "6                    3.0  \n",
      "8                    2.0  \n",
      "..                   ...  \n",
      "691                  1.0  \n",
      "693                  3.0  \n",
      "695                  3.0  \n",
      "697                  3.0  \n",
      "699                  1.0  \n",
      "\n",
      "[334 rows x 11 columns])\n"
     ]
    }
   ],
   "source": [
    "\n",
    "\n",
    "for Female in df.groupby('gender'):\n",
    "    \n",
    "    print(Female)"
   ]
  },
  {
   "cell_type": "code",
   "execution_count": 9,
   "metadata": {},
   "outputs": [
    {
     "data": {
      "text/html": [
       "<div>\n",
       "<style scoped>\n",
       "    .dataframe tbody tr th:only-of-type {\n",
       "        vertical-align: middle;\n",
       "    }\n",
       "\n",
       "    .dataframe tbody tr th {\n",
       "        vertical-align: top;\n",
       "    }\n",
       "\n",
       "    .dataframe thead th {\n",
       "        text-align: right;\n",
       "    }\n",
       "</style>\n",
       "<table border=\"1\" class=\"dataframe\">\n",
       "  <thead>\n",
       "    <tr style=\"text-align: right;\">\n",
       "      <th></th>\n",
       "      <th>id</th>\n",
       "      <th>name</th>\n",
       "      <th>gender</th>\n",
       "      <th>age</th>\n",
       "      <th>degree</th>\n",
       "      <th>stream</th>\n",
       "      <th>college_name</th>\n",
       "      <th>placement_status</th>\n",
       "      <th>salary</th>\n",
       "      <th>gpa</th>\n",
       "      <th>years_of_experience</th>\n",
       "    </tr>\n",
       "  </thead>\n",
       "  <tbody>\n",
       "    <tr>\n",
       "      <th>0</th>\n",
       "      <td>1</td>\n",
       "      <td>John Doe</td>\n",
       "      <td>Male</td>\n",
       "      <td>25</td>\n",
       "      <td>Bachelor's</td>\n",
       "      <td>Computer Science</td>\n",
       "      <td>Harvard University</td>\n",
       "      <td>Placed</td>\n",
       "      <td>60000</td>\n",
       "      <td>3.7</td>\n",
       "      <td>2.0</td>\n",
       "    </tr>\n",
       "    <tr>\n",
       "      <th>1</th>\n",
       "      <td>2</td>\n",
       "      <td>Jane Smith</td>\n",
       "      <td>Female</td>\n",
       "      <td>24</td>\n",
       "      <td>Bachelor's</td>\n",
       "      <td>Electrical Engineering</td>\n",
       "      <td>Massachusetts Institute of Technology</td>\n",
       "      <td>Placed</td>\n",
       "      <td>65000</td>\n",
       "      <td>3.6</td>\n",
       "      <td>1.0</td>\n",
       "    </tr>\n",
       "    <tr>\n",
       "      <th>2</th>\n",
       "      <td>3</td>\n",
       "      <td>Michael Johnson</td>\n",
       "      <td>Male</td>\n",
       "      <td>26</td>\n",
       "      <td>Bachelor's</td>\n",
       "      <td>Mechanical Engineering</td>\n",
       "      <td>Stanford University</td>\n",
       "      <td>Placed</td>\n",
       "      <td>58000</td>\n",
       "      <td>3.8</td>\n",
       "      <td>3.0</td>\n",
       "    </tr>\n",
       "    <tr>\n",
       "      <th>3</th>\n",
       "      <td>4</td>\n",
       "      <td>Emily Davis</td>\n",
       "      <td>Female</td>\n",
       "      <td>23</td>\n",
       "      <td>Bachelor's</td>\n",
       "      <td>Information Technology</td>\n",
       "      <td>Yale University</td>\n",
       "      <td>Not Placed</td>\n",
       "      <td>0</td>\n",
       "      <td>3.5</td>\n",
       "      <td>2.0</td>\n",
       "    </tr>\n",
       "    <tr>\n",
       "      <th>4</th>\n",
       "      <td>5</td>\n",
       "      <td>David Brown</td>\n",
       "      <td>Male</td>\n",
       "      <td>24</td>\n",
       "      <td>Bachelor's</td>\n",
       "      <td>Computer Science</td>\n",
       "      <td>Princeton University</td>\n",
       "      <td>Placed</td>\n",
       "      <td>62000</td>\n",
       "      <td>3.9</td>\n",
       "      <td>2.0</td>\n",
       "    </tr>\n",
       "    <tr>\n",
       "      <th>...</th>\n",
       "      <td>...</td>\n",
       "      <td>...</td>\n",
       "      <td>...</td>\n",
       "      <td>...</td>\n",
       "      <td>...</td>\n",
       "      <td>...</td>\n",
       "      <td>...</td>\n",
       "      <td>...</td>\n",
       "      <td>...</td>\n",
       "      <td>...</td>\n",
       "      <td>...</td>\n",
       "    </tr>\n",
       "    <tr>\n",
       "      <th>695</th>\n",
       "      <td>696</td>\n",
       "      <td>Lucas Taylor</td>\n",
       "      <td>Male</td>\n",
       "      <td>23</td>\n",
       "      <td>Bachelor's</td>\n",
       "      <td>Computer Science</td>\n",
       "      <td>University of Washington</td>\n",
       "      <td>Placed</td>\n",
       "      <td>67000</td>\n",
       "      <td>3.8</td>\n",
       "      <td>3.0</td>\n",
       "    </tr>\n",
       "    <tr>\n",
       "      <th>696</th>\n",
       "      <td>697</td>\n",
       "      <td>Emma Martinez</td>\n",
       "      <td>Female</td>\n",
       "      <td>26</td>\n",
       "      <td>Bachelor's</td>\n",
       "      <td>Electronics and Communication</td>\n",
       "      <td>University of California--Berkeley</td>\n",
       "      <td>Placed</td>\n",
       "      <td>66000</td>\n",
       "      <td>3.9</td>\n",
       "      <td>3.0</td>\n",
       "    </tr>\n",
       "    <tr>\n",
       "      <th>697</th>\n",
       "      <td>698</td>\n",
       "      <td>Aiden Davis</td>\n",
       "      <td>Male</td>\n",
       "      <td>24</td>\n",
       "      <td>Bachelor's</td>\n",
       "      <td>Computer Science</td>\n",
       "      <td>University of Illinois--Urbana-Champaign</td>\n",
       "      <td>Placed</td>\n",
       "      <td>65000</td>\n",
       "      <td>3.8</td>\n",
       "      <td>3.0</td>\n",
       "    </tr>\n",
       "    <tr>\n",
       "      <th>698</th>\n",
       "      <td>699</td>\n",
       "      <td>Mia Wilson</td>\n",
       "      <td>Female</td>\n",
       "      <td>23</td>\n",
       "      <td>Bachelor's</td>\n",
       "      <td>Electrical Engineering</td>\n",
       "      <td>University of Colorado--Boulder</td>\n",
       "      <td>Placed</td>\n",
       "      <td>66000</td>\n",
       "      <td>3.7</td>\n",
       "      <td>2.0</td>\n",
       "    </tr>\n",
       "    <tr>\n",
       "      <th>699</th>\n",
       "      <td>700</td>\n",
       "      <td>Jack Garcia</td>\n",
       "      <td>Male</td>\n",
       "      <td>26</td>\n",
       "      <td>Bachelor's</td>\n",
       "      <td>Information Technology</td>\n",
       "      <td>University of North Carolina--Chapel Hill</td>\n",
       "      <td>Not Placed</td>\n",
       "      <td>0</td>\n",
       "      <td>3.6</td>\n",
       "      <td>1.0</td>\n",
       "    </tr>\n",
       "  </tbody>\n",
       "</table>\n",
       "<p>700 rows × 11 columns</p>\n",
       "</div>"
      ],
      "text/plain": [
       "      id             name  gender  age      degree  \\\n",
       "0      1         John Doe    Male   25  Bachelor's   \n",
       "1      2       Jane Smith  Female   24  Bachelor's   \n",
       "2      3  Michael Johnson    Male   26  Bachelor's   \n",
       "3      4      Emily Davis  Female   23  Bachelor's   \n",
       "4      5      David Brown    Male   24  Bachelor's   \n",
       "..   ...              ...     ...  ...         ...   \n",
       "695  696     Lucas Taylor    Male   23  Bachelor's   \n",
       "696  697    Emma Martinez  Female   26  Bachelor's   \n",
       "697  698      Aiden Davis    Male   24  Bachelor's   \n",
       "698  699       Mia Wilson  Female   23  Bachelor's   \n",
       "699  700      Jack Garcia    Male   26  Bachelor's   \n",
       "\n",
       "                            stream                               college_name  \\\n",
       "0                 Computer Science                         Harvard University   \n",
       "1           Electrical Engineering      Massachusetts Institute of Technology   \n",
       "2           Mechanical Engineering                        Stanford University   \n",
       "3           Information Technology                            Yale University   \n",
       "4                 Computer Science                       Princeton University   \n",
       "..                             ...                                        ...   \n",
       "695               Computer Science                   University of Washington   \n",
       "696  Electronics and Communication         University of California--Berkeley   \n",
       "697               Computer Science   University of Illinois--Urbana-Champaign   \n",
       "698         Electrical Engineering            University of Colorado--Boulder   \n",
       "699         Information Technology  University of North Carolina--Chapel Hill   \n",
       "\n",
       "    placement_status  salary  gpa  years_of_experience  \n",
       "0             Placed   60000  3.7                  2.0  \n",
       "1             Placed   65000  3.6                  1.0  \n",
       "2             Placed   58000  3.8                  3.0  \n",
       "3         Not Placed       0  3.5                  2.0  \n",
       "4             Placed   62000  3.9                  2.0  \n",
       "..               ...     ...  ...                  ...  \n",
       "695           Placed   67000  3.8                  3.0  \n",
       "696           Placed   66000  3.9                  3.0  \n",
       "697           Placed   65000  3.8                  3.0  \n",
       "698           Placed   66000  3.7                  2.0  \n",
       "699       Not Placed       0  3.6                  1.0  \n",
       "\n",
       "[700 rows x 11 columns]"
      ]
     },
     "execution_count": 9,
     "metadata": {},
     "output_type": "execute_result"
    }
   ],
   "source": [
    "\n",
    "df.loc[(df.gender =='Female')].salary.sum() / len(df.loc[(df.gender == 'Female')]) \n",
    "df"
   ]
  },
  {
   "cell_type": "code",
   "execution_count": null,
   "metadata": {},
   "outputs": [
    {
     "name": "stdout",
     "output_type": "stream",
     "text": [
      "Electronics and Communication\n",
      "6023000\n",
      "The best stream for women is Electronics and Communication with an a highest salary with 6023000\n"
     ]
    }
   ],
   "source": [
    "# which stream is the best for the women ?\n",
    "\n",
    "import pandas as pd\n",
    "\n",
    "women=df.loc[(df.gender =='Female')]\n",
    "stream_salaries = women.groupby('stream')['salary'].sum()\n",
    "best_stream_for_women = stream_salaries.idxmax()\n",
    "stream_max_salary = stream_salaries.max()\n",
    "#print(best_stream_for_women)  \n",
    "#print(stream_max_salary)\n",
    "\n",
    "\n",
    "\n",
    "print(f\"The best stream for women is {best_stream_for_women} with an a highest salary with {stream_max_salary}\")"
   ]
  },
  {
   "cell_type": "code",
   "execution_count": 22,
   "metadata": {},
   "outputs": [
    {
     "name": "stdout",
     "output_type": "stream",
     "text": [
      "stream\n",
      "Computer Science                 27878.112841\n",
      "Electrical Engineering           25673.938970\n",
      "Electronics and Communication    18743.966542\n",
      "Information Technology           23730.092462\n",
      "Mechanical Engineering           25423.753459\n",
      "Name: salary, dtype: float64\n",
      "stream\n",
      "Computer Science                 16969.713246\n",
      "Electrical Engineering           26752.727697\n",
      "Electronics and Communication    40305.053066\n",
      "Information Technology           31367.468514\n",
      "Mechanical Engineering           26223.305364\n",
      "Name: salary, dtype: float64\n"
     ]
    }
   ],
   "source": [
    "\n",
    "\n",
    "female_df = df[df['gender'] == 'Female']\n",
    "stream_salaries = female_df.groupby('stream')['salary'].mean()\n",
    "b=df.groupby('stream')['salary'].std()\n",
    "print(b)\n",
    "print(stream_salaries-b)\n",
    "#print(f\"The best stream for women is '{best_stream_for_women}' with an highest salary of {best_stream_avg_salary}.\")\n"
   ]
  },
  {
   "cell_type": "code",
   "execution_count": 20,
   "metadata": {},
   "outputs": [
    {
     "data": {
      "text/plain": [
       "stream\n",
       "Electronics and Communication    40305.053066\n",
       "Information Technology           31367.468514\n",
       "Electrical Engineering           26752.727697\n",
       "Mechanical Engineering           26223.305364\n",
       "Computer Science                 16969.713246\n",
       "Name: salary, dtype: float64"
      ]
     },
     "execution_count": 20,
     "metadata": {},
     "output_type": "execute_result"
    }
   ],
   "source": [
    "(stream_salaries- b).sort_values(ascending=False)"
   ]
  },
  {
   "cell_type": "code",
   "execution_count": 23,
   "metadata": {},
   "outputs": [
    {
     "data": {
      "text/plain": [
       "stream\n",
       "Computer Science                 27878.112841\n",
       "Electrical Engineering           25673.938970\n",
       "Mechanical Engineering           25423.753459\n",
       "Information Technology           23730.092462\n",
       "Electronics and Communication    18743.966542\n",
       "Name: salary, dtype: float64"
      ]
     },
     "execution_count": 23,
     "metadata": {},
     "output_type": "execute_result"
    }
   ],
   "source": [
    "(b).sort_values(ascending=False)"
   ]
  },
  {
   "cell_type": "code",
   "execution_count": null,
   "metadata": {},
   "outputs": [],
   "source": []
  }
 ],
 "metadata": {
  "kernelspec": {
   "display_name": "Python 3",
   "language": "python",
   "name": "python3"
  },
  "language_info": {
   "codemirror_mode": {
    "name": "ipython",
    "version": 3
   },
   "file_extension": ".py",
   "mimetype": "text/x-python",
   "name": "python",
   "nbconvert_exporter": "python",
   "pygments_lexer": "ipython3",
   "version": "3.10.10"
  }
 },
 "nbformat": 4,
 "nbformat_minor": 2
}
