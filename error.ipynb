{
 "cells": [
  {
   "cell_type": "code",
   "execution_count": 15,
   "metadata": {},
   "outputs": [],
   "source": [
    "# Program with multiple errors\n",
    "\n",
    "# Syntax Error\n",
    "def syntax_error_example():\n",
    "    print(\"Hello, world!\")\n",
    "\n",
    "\n",
    "# NameError\n",
    "def name_error_example():\n",
    "    x = 5\n",
    "    print(x)\n",
    "\n",
    "\n",
    "# IndentationError\n",
    "def indentation_error_example():\n",
    "    def greet():\n",
    "        print(\"Hello!\")\n",
    "\n",
    "\n",
    "# TypeError\n",
    "def type_error_example():\n",
    "    number = \"5\"\n",
    "    text = \"The number is: \" + number\n",
    "    print(text)\n",
    "\n",
    "\n",
    "# IndexError\n",
    "def index_error_example():\n",
    "    numbers = [1, 2, 3]\n",
    "    print(numbers[2])\n",
    "\n",
    "\n",
    "# KeyError\n",
    "def key_error_example():\n",
    "    person = {\"name\": \"Alice\", \"age\": 25}\n",
    "    print(person[\"name\"])\n",
    "\n",
    "\n",
    "# ValueError\n",
    "def value_error_example():\n",
    "    number = int(48)\n",
    "    print(number)\n",
    "\n",
    "\n",
    "# AttributeError\n",
    "def attribute_error_example():\n",
    "    text = \"Hello, world!\"\n",
    "    print(text.__add__(\" How are you?\"))\n",
    "\n",
    "\n",
    "\n",
    "\n",
    "\n",
    "# ZeroDivisionError\n",
    "def zero_division_error_example():\n",
    "    a = 10\n",
    "    b = 1\n",
    "    print(a / b)\n",
    "\n",
    "\n",
    "# FileNotFoundError\n",
    "def file_not_found_error_example():\n",
    "    with open(\"nonexistent_file.txt\", \"r\") as file:\n",
    "        content = file.read()\n",
    "        print(content)"
   ]
  },
  {
   "cell_type": "code",
   "execution_count": 16,
   "metadata": {},
   "outputs": [
    {
     "name": "stdout",
     "output_type": "stream",
     "text": [
      "Hello, world!\n",
      "5\n",
      "The number is: 5\n",
      "3\n",
      "Alice\n",
      "48\n",
      "Hello, world! How are you?\n",
      "10.0\n"
     ]
    },
    {
     "ename": "FileNotFoundError",
     "evalue": "[Errno 2] No such file or directory: 'nonexistent_file.txt'",
     "output_type": "error",
     "traceback": [
      "\u001b[1;31m---------------------------------------------------------------------------\u001b[0m",
      "\u001b[1;31mFileNotFoundError\u001b[0m                         Traceback (most recent call last)",
      "Cell \u001b[1;32mIn[16], line 11\u001b[0m\n\u001b[0;32m      9\u001b[0m attribute_error_example()\n\u001b[0;32m     10\u001b[0m zero_division_error_example()\n\u001b[1;32m---> 11\u001b[0m \u001b[43mfile_not_found_error_example\u001b[49m\u001b[43m(\u001b[49m\u001b[43m)\u001b[49m\n",
      "Cell \u001b[1;32mIn[15], line 63\u001b[0m, in \u001b[0;36mfile_not_found_error_example\u001b[1;34m()\u001b[0m\n\u001b[0;32m     62\u001b[0m \u001b[38;5;28;01mdef\u001b[39;00m \u001b[38;5;21mfile_not_found_error_example\u001b[39m():\n\u001b[1;32m---> 63\u001b[0m     \u001b[38;5;28;01mwith\u001b[39;00m \u001b[38;5;28;43mopen\u001b[39;49m\u001b[43m(\u001b[49m\u001b[38;5;124;43m\"\u001b[39;49m\u001b[38;5;124;43mnonexistent_file.txt\u001b[39;49m\u001b[38;5;124;43m\"\u001b[39;49m\u001b[43m,\u001b[49m\u001b[43m \u001b[49m\u001b[38;5;124;43m\"\u001b[39;49m\u001b[38;5;124;43mr\u001b[39;49m\u001b[38;5;124;43m\"\u001b[39;49m\u001b[43m)\u001b[49m \u001b[38;5;28;01mas\u001b[39;00m file:\n\u001b[0;32m     64\u001b[0m         content \u001b[38;5;241m=\u001b[39m file\u001b[38;5;241m.\u001b[39mread()\n\u001b[0;32m     65\u001b[0m         \u001b[38;5;28mprint\u001b[39m(content)\n",
      "File \u001b[1;32m~\\AppData\\Roaming\\Python\\Python310\\site-packages\\IPython\\core\\interactiveshell.py:310\u001b[0m, in \u001b[0;36m_modified_open\u001b[1;34m(file, *args, **kwargs)\u001b[0m\n\u001b[0;32m    303\u001b[0m \u001b[38;5;28;01mif\u001b[39;00m file \u001b[38;5;129;01min\u001b[39;00m {\u001b[38;5;241m0\u001b[39m, \u001b[38;5;241m1\u001b[39m, \u001b[38;5;241m2\u001b[39m}:\n\u001b[0;32m    304\u001b[0m     \u001b[38;5;28;01mraise\u001b[39;00m \u001b[38;5;167;01mValueError\u001b[39;00m(\n\u001b[0;32m    305\u001b[0m         \u001b[38;5;124mf\u001b[39m\u001b[38;5;124m\"\u001b[39m\u001b[38;5;124mIPython won\u001b[39m\u001b[38;5;124m'\u001b[39m\u001b[38;5;124mt let you open fd=\u001b[39m\u001b[38;5;132;01m{\u001b[39;00mfile\u001b[38;5;132;01m}\u001b[39;00m\u001b[38;5;124m by default \u001b[39m\u001b[38;5;124m\"\u001b[39m\n\u001b[0;32m    306\u001b[0m         \u001b[38;5;124m\"\u001b[39m\u001b[38;5;124mas it is likely to crash IPython. If you know what you are doing, \u001b[39m\u001b[38;5;124m\"\u001b[39m\n\u001b[0;32m    307\u001b[0m         \u001b[38;5;124m\"\u001b[39m\u001b[38;5;124myou can use builtins\u001b[39m\u001b[38;5;124m'\u001b[39m\u001b[38;5;124m open.\u001b[39m\u001b[38;5;124m\"\u001b[39m\n\u001b[0;32m    308\u001b[0m     )\n\u001b[1;32m--> 310\u001b[0m \u001b[38;5;28;01mreturn\u001b[39;00m io_open(file, \u001b[38;5;241m*\u001b[39margs, \u001b[38;5;241m*\u001b[39m\u001b[38;5;241m*\u001b[39mkwargs)\n",
      "\u001b[1;31mFileNotFoundError\u001b[0m: [Errno 2] No such file or directory: 'nonexistent_file.txt'"
     ]
    }
   ],
   "source": [
    "# Calling all the functions (one by one, comment others while testing one)\n",
    "syntax_error_example()\n",
    "name_error_example()\n",
    "indentation_error_example()\n",
    "type_error_example()\n",
    "index_error_example()\n",
    "key_error_example()\n",
    "value_error_example()\n",
    "attribute_error_example()\n",
    "zero_division_error_example()\n",
    "file_not_found_error_example()"
   ]
  },
  {
   "cell_type": "code",
   "execution_count": null,
   "metadata": {},
   "outputs": [],
   "source": []
  }
 ],
 "metadata": {
  "kernelspec": {
   "display_name": "Python 3",
   "language": "python",
   "name": "python3"
  },
  "language_info": {
   "codemirror_mode": {
    "name": "ipython",
    "version": 3
   },
   "file_extension": ".py",
   "mimetype": "text/x-python",
   "name": "python",
   "nbconvert_exporter": "python",
   "pygments_lexer": "ipython3",
   "version": "3.10.10"
  }
 },
 "nbformat": 4,
 "nbformat_minor": 2
}
