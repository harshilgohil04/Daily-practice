{
 "cells": [
  {
   "cell_type": "code",
   "execution_count": 2,
   "metadata": {},
   "outputs": [
    {
     "data": {
      "text/plain": [
       "{'Potato': {'price': 10, 'Qty': 2, 'Unit': 'kg'},\n",
       " 'Onion': {'price': 20, 'Qty': 3000, 'Unit': 'g'}}"
      ]
     },
     "execution_count": 2,
     "metadata": {},
     "output_type": "execute_result"
    }
   ],
   "source": [
    "inventory = {\n",
    "    \"Potato\": {\"price\": 10, \"Qty\": 2, \"Unit\": 'kg'},\n",
    "    \"Onion\": {\"price\": 20, \"Qty\": 3000, \"Unit\": 'g'}\n",
    "}\n",
    "inventory"
   ]
  },
  {
   "cell_type": "code",
   "execution_count": 3,
   "metadata": {},
   "outputs": [
    {
     "data": {
      "text/plain": [
       "{'Pizza': {'ingredients': ('Tomato', 'Onion'),\n",
       "  'quantities': (300, 2),\n",
       "  'units': ('g', 'kg')},\n",
       " 'Burger': {'ingredients': ('Lettuce', 'Onion'),\n",
       "  'quantities': (300, 2),\n",
       "  'units': ('g', 'kg')},\n",
       " 'Pani puri': {'ingredients': ('Potato', 'Rawa'),\n",
       "  'quantities': (300, 2),\n",
       "  'units': ('g', 'kg')}}"
      ]
     },
     "execution_count": 3,
     "metadata": {},
     "output_type": "execute_result"
    }
   ],
   "source": [
    "menu = {\n",
    "    \"Pizza\": {\n",
    "        \"ingredients\": (\"Tomato\", \"Onion\"),\n",
    "        \"quantities\": (300, 2),\n",
    "        \"units\": (\"g\", \"kg\")\n",
    "    },\n",
    "    \"Burger\": {\n",
    "        \"ingredients\": (\"Lettuce\", \"Onion\"),\n",
    "        \"quantities\": (300, 2),\n",
    "        \"units\": (\"g\", \"kg\")\n",
    "    },\n",
    "\n",
    "    \"Pani puri\": {\n",
    "        \"ingredients\": (\"Potato\", \"Rawa\"),\n",
    "        \"quantities\": (300, 2),\n",
    "        \"units\": (\"g\", \"kg\")\n",
    "    }\n",
    "}\n",
    "\n",
    "menu"
   ]
  },
  {
   "cell_type": "code",
   "execution_count": 4,
   "metadata": {},
   "outputs": [
    {
     "data": {
      "text/plain": [
       "'Rawa'"
      ]
     },
     "execution_count": 4,
     "metadata": {},
     "output_type": "execute_result"
    }
   ],
   "source": [
    "menu['Pani puri']['ingredients'][1]"
   ]
  },
  {
   "cell_type": "code",
   "execution_count": 5,
   "metadata": {},
   "outputs": [
    {
     "name": "stdout",
     "output_type": "stream",
     "text": [
      "Pizza\n"
     ]
    }
   ],
   "source": [
    "menuitem=input('Pizza')\n",
    "print(menuitem)"
   ]
  },
  {
   "cell_type": "code",
   "execution_count": 6,
   "metadata": {},
   "outputs": [],
   "source": [
    "menuitemingrposition=1"
   ]
  },
  {
   "cell_type": "code",
   "execution_count": 7,
   "metadata": {},
   "outputs": [
    {
     "name": "stdout",
     "output_type": "stream",
     "text": [
      "{'ingredients': ('Tomato', 'Onion'), 'quantities': (300, 2), 'units': ('g', 'kg')}\n"
     ]
    }
   ],
   "source": [
    "menuiteminfo=menu[menuitem]\n",
    "print(menuiteminfo)"
   ]
  },
  {
   "cell_type": "code",
   "execution_count": 8,
   "metadata": {},
   "outputs": [
    {
     "name": "stdout",
     "output_type": "stream",
     "text": [
      "('Tomato', 'Onion')\n"
     ]
    }
   ],
   "source": [
    "menuitemingrs=menuiteminfo['ingredients']\n",
    "print(menuitemingrs)"
   ]
  },
  {
   "cell_type": "code",
   "execution_count": 9,
   "metadata": {},
   "outputs": [
    {
     "name": "stdout",
     "output_type": "stream",
     "text": [
      "Onion\n"
     ]
    }
   ],
   "source": [
    "menuitemingr=menuitemingrs[1]\n",
    "print(menuitemingr)"
   ]
  },
  {
   "cell_type": "code",
   "execution_count": 10,
   "metadata": {},
   "outputs": [
    {
     "name": "stdout",
     "output_type": "stream",
     "text": [
      "True\n"
     ]
    }
   ],
   "source": [
    "if menuitemingr in inventory:\n",
    "    print( \"True\")\n",
    "else :\n",
    "    print(\"false\" )"
   ]
  },
  {
   "cell_type": "code",
   "execution_count": 11,
   "metadata": {},
   "outputs": [
    {
     "name": "stdout",
     "output_type": "stream",
     "text": [
      "{'price': 20, 'Qty': 3000, 'Unit': 'g'}\n"
     ]
    }
   ],
   "source": [
    "ingre_in_stock_info=inventory[menuitemingr]\n",
    "print(ingre_in_stock_info)"
   ]
  },
  {
   "cell_type": "code",
   "execution_count": 12,
   "metadata": {},
   "outputs": [
    {
     "name": "stdout",
     "output_type": "stream",
     "text": [
      "Pizza\n"
     ]
    }
   ],
   "source": [
    "print(menuitem)"
   ]
  },
  {
   "cell_type": "code",
   "execution_count": 13,
   "metadata": {},
   "outputs": [
    {
     "name": "stdout",
     "output_type": "stream",
     "text": [
      "3000\n"
     ]
    }
   ],
   "source": [
    "ingre_in_stock_qty=ingre_in_stock_info[\"Qty\"]\n",
    "print(ingre_in_stock_qty)"
   ]
  },
  {
   "cell_type": "code",
   "execution_count": 14,
   "metadata": {},
   "outputs": [
    {
     "name": "stdout",
     "output_type": "stream",
     "text": [
      "2\n"
     ]
    }
   ],
   "source": [
    "ingre_needed_qty=menuiteminfo[\"quantities\"][menuitemingrposition]\n",
    "print(ingre_needed_qty)"
   ]
  },
  {
   "cell_type": "code",
   "execution_count": 15,
   "metadata": {},
   "outputs": [
    {
     "name": "stdout",
     "output_type": "stream",
     "text": [
      "3.0\n"
     ]
    }
   ],
   "source": [
    "if ingre_in_stock_info['Unit']== 'g':\n",
    "    ingre_in_stock_qty=ingre_in_stock_qty/1000\n",
    "else:\n",
    "    ingre_in_stock_qty\n",
    "\n",
    "print(ingre_in_stock_qty)"
   ]
  },
  {
   "cell_type": "code",
   "execution_count": 16,
   "metadata": {},
   "outputs": [
    {
     "name": "stdout",
     "output_type": "stream",
     "text": [
      "we have enough quantity.so menu item is doable\n"
     ]
    }
   ],
   "source": [
    "if ingre_in_stock_qty > ingre_needed_qty :\n",
    "    print(\"we have enough quantity.so menu item is doable\")\n",
    "else:\n",
    "    print(\"we don't have enough quantity.so menu item is not doable\")"
   ]
  },
  {
   "cell_type": "markdown",
   "metadata": {},
   "source": [
    "Extra \n"
   ]
  },
  {
   "cell_type": "code",
   "execution_count": 17,
   "metadata": {},
   "outputs": [
    {
     "name": "stdout",
     "output_type": "stream",
     "text": [
      "my name is Harshil\n"
     ]
    }
   ],
   "source": [
    "name=\"Harshil\"\n",
    "print(f\"my name is {name}\")"
   ]
  },
  {
   "cell_type": "code",
   "execution_count": 18,
   "metadata": {},
   "outputs": [
    {
     "name": "stdout",
     "output_type": "stream",
     "text": [
      "we have 3.0 quantity\n",
      "of Onion and we needed \n",
      "2 of Onion so menu item \n",
      "Pizza is doable\n"
     ]
    }
   ],
   "source": [
    "if ingre_in_stock_qty > ingre_needed_qty:\n",
    "    print(f'''we have {ingre_in_stock_qty} quantity\n",
    "of {menuitemingr} and we needed \n",
    "{ingre_needed_qty} of {menuitemingr} so menu item \n",
    "{menuitem} is doable''')\n",
    "\n",
    "else:\n",
    "    print(f'''we have {ingre_in_stock_qty} quantity\n",
    "of {menuitemingr} and we needed \n",
    "{ingre_needed_qty} of {menuitemingr} so menu item \n",
    "{menuitem} is NOT doable''')"
   ]
  }
 ],
 "metadata": {
  "kernelspec": {
   "display_name": "Python 3",
   "language": "python",
   "name": "python3"
  },
  "language_info": {
   "codemirror_mode": {
    "name": "ipython",
    "version": 3
   },
   "file_extension": ".py",
   "mimetype": "text/x-python",
   "name": "python",
   "nbconvert_exporter": "python",
   "pygments_lexer": "ipython3",
   "version": "3.10.10"
  }
 },
 "nbformat": 4,
 "nbformat_minor": 2
}
