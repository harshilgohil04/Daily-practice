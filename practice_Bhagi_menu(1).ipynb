{
 "cells": [
  {
   "cell_type": "code",
   "execution_count": 16,
   "metadata": {},
   "outputs": [
    {
     "data": {
      "text/plain": [
       "{'Potato': {'price': 10, 'Qty': 2, 'Unit': 'kg'},\n",
       " 'Onion': {'price': 20, 'Qty': 3000, 'Unit': 'g'}}"
      ]
     },
     "execution_count": 16,
     "metadata": {},
     "output_type": "execute_result"
    }
   ],
   "source": [
    "inventory = {\n",
    "    \"Potato\": {\"price\": 10, \"Qty\": 2, \"Unit\": 'kg'},\n",
    "    \"Onion\": {\"price\": 20, \"Qty\": 3000, \"Unit\": 'g'}\n",
    "}\n",
    "inventory"
   ]
  },
  {
   "cell_type": "code",
   "execution_count": 17,
   "metadata": {},
   "outputs": [
    {
     "data": {
      "text/plain": [
       "{'Pizza': {'ingredients': ('Tomato', 'Onion'),\n",
       "  'quantities': (300, 2),\n",
       "  'units': ('g', 'kg')},\n",
       " 'Burger': {'ingredients': ('Lettuce', 'Onion'),\n",
       "  'quantities': (300, 2),\n",
       "  'units': ('g', 'kg')},\n",
       " 'Pani puri': {'ingredients': ('Potato', 'Rawa'),\n",
       "  'quantities': (300, 2),\n",
       "  'units': ('g', 'kg')}}"
      ]
     },
     "execution_count": 17,
     "metadata": {},
     "output_type": "execute_result"
    }
   ],
   "source": [
    "menu = {\n",
    "    \"Pizza\": {\n",
    "        \"ingredients\": (\"Tomato\", \"Onion\"),\n",
    "        \"quantities\": (300, 2),\n",
    "        \"units\": (\"g\", \"kg\")\n",
    "    },\n",
    "    \"Burger\": {\n",
    "        \"ingredients\": (\"Lettuce\", \"Onion\"),\n",
    "        \"quantities\": (300, 2),\n",
    "        \"units\": (\"g\", \"kg\")\n",
    "    },\n",
    "\n",
    "    \"Pani puri\": {\n",
    "        \"ingredients\": (\"Potato\", \"Rawa\"),\n",
    "        \"quantities\": (300, 2),\n",
    "        \"units\": (\"g\", \"kg\")\n",
    "    }\n",
    "}\n",
    "\n",
    "menu"
   ]
  },
  {
   "cell_type": "code",
   "execution_count": 18,
   "metadata": {},
   "outputs": [
    {
     "data": {
      "text/plain": [
       "'Rawa'"
      ]
     },
     "execution_count": 18,
     "metadata": {},
     "output_type": "execute_result"
    }
   ],
   "source": [
    "menu['Pani puri']['ingredients'][1]"
   ]
  },
  {
   "cell_type": "code",
   "execution_count": 19,
   "metadata": {},
   "outputs": [
    {
     "name": "stdout",
     "output_type": "stream",
     "text": [
      "\n"
     ]
    }
   ],
   "source": [
    "menuitem=input('pizza')\n",
    "print(menuitem)"
   ]
  },
  {
   "cell_type": "code",
   "execution_count": 20,
   "metadata": {},
   "outputs": [],
   "source": [
    "menuitemingrposition=1"
   ]
  },
  {
   "cell_type": "code",
   "execution_count": 21,
   "metadata": {},
   "outputs": [
    {
     "ename": "KeyError",
     "evalue": "''",
     "output_type": "error",
     "traceback": [
      "\u001b[1;31m---------------------------------------------------------------------------\u001b[0m",
      "\u001b[1;31mKeyError\u001b[0m                                  Traceback (most recent call last)",
      "Cell \u001b[1;32mIn[21], line 1\u001b[0m\n\u001b[1;32m----> 1\u001b[0m menuiteminfo\u001b[38;5;241m=\u001b[39m\u001b[43mmenu\u001b[49m\u001b[43m[\u001b[49m\u001b[43mmenuitem\u001b[49m\u001b[43m]\u001b[49m\n\u001b[0;32m      2\u001b[0m \u001b[38;5;28mprint\u001b[39m(menuiteminfo)\n",
      "\u001b[1;31mKeyError\u001b[0m: ''"
     ]
    }
   ],
   "source": [
    "menuiteminfo=menu[menuitem]\n",
    "print(menuiteminfo)"
   ]
  },
  {
   "cell_type": "code",
   "execution_count": null,
   "metadata": {},
   "outputs": [
    {
     "name": "stdout",
     "output_type": "stream",
     "text": [
      "('Tomato', 'Onion')\n"
     ]
    }
   ],
   "source": [
    "menuitemingrs=menuiteminfo['ingredients']\n",
    "print(menuitemingrs)"
   ]
  },
  {
   "cell_type": "code",
   "execution_count": null,
   "metadata": {},
   "outputs": [
    {
     "name": "stdout",
     "output_type": "stream",
     "text": [
      "Onion\n"
     ]
    }
   ],
   "source": [
    "menuitemingr=menuitemingrs[1]\n",
    "print(menuitemingr)"
   ]
  },
  {
   "cell_type": "code",
   "execution_count": null,
   "metadata": {},
   "outputs": [
    {
     "name": "stdout",
     "output_type": "stream",
     "text": [
      "True\n"
     ]
    }
   ],
   "source": [
    "if menuitemingr in inventory:\n",
    "    print( \"True\")\n",
    "else :\n",
    "    print(\"false\" )"
   ]
  },
  {
   "cell_type": "code",
   "execution_count": 22,
   "metadata": {},
   "outputs": [
    {
     "ename": "NameError",
     "evalue": "name 'menuitemingr' is not defined",
     "output_type": "error",
     "traceback": [
      "\u001b[1;31m---------------------------------------------------------------------------\u001b[0m",
      "\u001b[1;31mNameError\u001b[0m                                 Traceback (most recent call last)",
      "Cell \u001b[1;32mIn[22], line 1\u001b[0m\n\u001b[1;32m----> 1\u001b[0m ingre_in_stock_info\u001b[38;5;241m=\u001b[39minventory[\u001b[43mmenuitemingr\u001b[49m]\n",
      "\u001b[1;31mNameError\u001b[0m: name 'menuitemingr' is not defined"
     ]
    }
   ],
   "source": [
    "ingre_in_stock_info=inventory[menuitemingr]"
   ]
  },
  {
   "cell_type": "code",
   "execution_count": null,
   "metadata": {},
   "outputs": [
    {
     "ename": "NameError",
     "evalue": "name 'menuitem' is not defined",
     "output_type": "error",
     "traceback": [
      "\u001b[1;31m---------------------------------------------------------------------------\u001b[0m",
      "\u001b[1;31mNameError\u001b[0m                                 Traceback (most recent call last)",
      "Cell \u001b[1;32mIn[1], line 1\u001b[0m\n\u001b[1;32m----> 1\u001b[0m \u001b[38;5;28mprint\u001b[39m(\u001b[43mmenuitem\u001b[49m)\n",
      "\u001b[1;31mNameError\u001b[0m: name 'menuitem' is not defined"
     ]
    }
   ],
   "source": [
    "print(menuitem)"
   ]
  },
  {
   "cell_type": "code",
   "execution_count": null,
   "metadata": {},
   "outputs": [],
   "source": []
  }
 ],
 "metadata": {
  "kernelspec": {
   "display_name": "Python 3",
   "language": "python",
   "name": "python3"
  },
  "language_info": {
   "codemirror_mode": {
    "name": "ipython",
    "version": 3
   },
   "file_extension": ".py",
   "mimetype": "text/x-python",
   "name": "python",
   "nbconvert_exporter": "python",
   "pygments_lexer": "ipython3",
   "version": "3.10.10"
  }
 },
 "nbformat": 4,
 "nbformat_minor": 2
}
